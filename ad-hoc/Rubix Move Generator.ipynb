{
 "cells": [
  {
   "metadata": {
    "collapsed": true,
    "ExecuteTime": {
     "end_time": "2024-10-17T14:03:20.000168Z",
     "start_time": "2024-10-17T14:03:19.995820Z"
    }
   },
   "cell_type": "code",
   "source": [
    "# edges are encoded at 8 bit bytes. The first bit encodes flipped or not. The last 4 bits encode slice (0, 1, 2) and number within the slice (0, 1, 2, 3)\n",
    "\n",
    "edges   = [0x00, 0x01, 0x02, 0x03, 0x04, 0x05, 0x06, 0x07, 0x08, 0x09, 0x0A, 0x0B]\n",
    "corners = [0x00, 0x01, 0x02, 0x03, 0x04, 0x05, 0x06, 0x07]\n",
    "cube    = [edges, corners]\n"
   ],
   "id": "initial_id",
   "outputs": [],
   "execution_count": 1
  },
  {
   "metadata": {
    "ExecuteTime": {
     "end_time": "2024-10-17T14:03:20.017178Z",
     "start_time": "2024-10-17T14:03:20.014121Z"
    }
   },
   "cell_type": "code",
   "source": [
    "def generate_new(members, generators):\n",
    "    candidates = dict()\n",
    "    for name, [edges, corners] in members.items():\n",
    "        candidates.update({name + n: [[edges[0x0F & edge] ^ (edge & 0xF0)                                         for edge in edgemove],\n",
    "                                      [(corners[0x0F & corner] & 0x0F) + (((corners[0x0F & corner] & 0xF0) + (corner & 0xF0))%0xC0)    for corner in cornermove ] ]  for n, [edgemove, cornermove] in generators.items()} )\n",
    "        \n",
    "            \n",
    "    return candidates\n",
    "    \n",
    "    "
   ],
   "id": "28c1e6d473197a42",
   "outputs": [],
   "execution_count": 2
  },
  {
   "metadata": {
    "ExecuteTime": {
     "end_time": "2024-10-17T14:03:20.061627Z",
     "start_time": "2024-10-17T14:03:20.058706Z"
    }
   },
   "cell_type": "code",
   "source": [
    "# Define base permutations (clockwise quarter turns in each face - cubies numbered from 0\n",
    "moves = {'R':  [[0x00, 0x01, 0x06, 0x07, 0x04, 0x05, 0x03, 0x02, 0x08, 0x09, 0x0A, 0x0B], [0x00, 0x01, 0x07, 0x06, 0x04, 0x05, 0x02, 0x03]],\n",
    "         'L':  [[0x04, 0x05, 0x02, 0x03, 0x01, 0x00, 0x06, 0x07, 0x08, 0x09, 0x0A, 0x0B], [0x05, 0x04, 0x02, 0x03, 0x00, 0x01, 0x06, 0x07]],\n",
    "         'F':  [[0x00, 0x01, 0x02, 0x03, 0x04, 0x09, 0x08, 0x07, 0x05, 0x06, 0x0A, 0x0B], [0x00, 0x86, 0x02, 0x84, 0x41, 0x05, 0x43, 0x07]],\n",
    "         'B':  [[0x00, 0x01, 0x02, 0x03, 0x0B, 0x05, 0x06, 0x0A, 0x08, 0x09, 0x04, 0x07], [0x87, 0x01, 0x85, 0x03, 0x04, 0x40, 0x06, 0x42]],\n",
    "         'U': [[0x88, 0x01, 0x8B, 0x03, 0x04, 0x05, 0x06, 0x07, 0x82, 0x09, 0x0A, 0x80], [0x44, 0x01, 0x02, 0x47, 0x83, 0x05, 0x06, 0x80]],\n",
    "         'D': [[0x00, 0x8A, 0x02, 0x89, 0x04, 0x05, 0x06, 0x07, 0x08, 0x81, 0x83, 0x0B], [0x00, 0x45, 0x46, 0x03, 0x04, 0x82, 0x81, 0x07]]\n",
    "         }"
   ],
   "id": "dad10bc59f4cb4a6",
   "outputs": [],
   "execution_count": 3
  },
  {
   "metadata": {
    "ExecuteTime": {
     "end_time": "2024-10-17T14:03:20.067635Z",
     "start_time": "2024-10-17T14:03:20.066414Z"
    }
   },
   "cell_type": "code",
   "source": "",
   "id": "4609f6701b27438",
   "outputs": [],
   "execution_count": null
  },
  {
   "metadata": {
    "ExecuteTime": {
     "end_time": "2024-10-17T14:03:36.201293Z",
     "start_time": "2024-10-17T14:03:36.193796Z"
    }
   },
   "cell_type": "code",
   "source": [
    "squared_moves = generate_new(moves, moves)\n",
    "four_moves      = generate_new(squared_moves, squared_moves)\n",
    "   "
   ],
   "id": "9eaaea00e241da3b",
   "outputs": [],
   "execution_count": 5
  },
  {
   "metadata": {
    "ExecuteTime": {
     "end_time": "2024-10-17T14:03:37.826833Z",
     "start_time": "2024-10-17T14:03:37.823487Z"
    }
   },
   "cell_type": "code",
   "source": [
    "print(squared_moves['UU'])\n",
    "print(squared_moves['DD'])\n",
    "\n"
   ],
   "id": "b999129f1c0161da",
   "outputs": [
    {
     "name": "stdout",
     "output_type": "stream",
     "text": [
      "[[2, 1, 0, 3, 4, 5, 6, 7, 11, 9, 10, 8], [3, 1, 2, 0, 7, 5, 6, 4]]\n",
      "[[0, 3, 2, 1, 4, 5, 6, 7, 8, 10, 9, 11], [0, 2, 1, 3, 4, 6, 5, 7]]\n"
     ]
    }
   ],
   "execution_count": 6
  },
  {
   "metadata": {
    "ExecuteTime": {
     "end_time": "2024-10-17T14:03:20.316269Z",
     "start_time": "2024-10-17T13:29:14.814686Z"
    }
   },
   "cell_type": "code",
   "source": "",
   "id": "27c9b1d05be8450b",
   "outputs": [],
   "execution_count": null
  }
 ],
 "metadata": {
  "kernelspec": {
   "display_name": "Python 3",
   "language": "python",
   "name": "python3"
  },
  "language_info": {
   "codemirror_mode": {
    "name": "ipython",
    "version": 2
   },
   "file_extension": ".py",
   "mimetype": "text/x-python",
   "name": "python",
   "nbconvert_exporter": "python",
   "pygments_lexer": "ipython2",
   "version": "2.7.6"
  }
 },
 "nbformat": 4,
 "nbformat_minor": 5
}
