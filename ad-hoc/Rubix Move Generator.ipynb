{
 "cells": [
  {
   "metadata": {
    "collapsed": true,
    "ExecuteTime": {
     "end_time": "2024-10-18T14:12:05.123971700Z",
     "start_time": "2024-10-18T14:12:05.116317800Z"
    }
   },
   "cell_type": "code",
   "source": [
    "# edges are encoded at 8 bit bytes. The first bit encodes flipped or not. The last 4 bits encode slice (0, 1, 2) and number within the slice (0, 1, 2, 3)\n",
    "\n",
    "edges   = [0x00, 0x01, 0x02, 0x03, 0x04, 0x05, 0x06, 0x07, 0x08, 0x09, 0x0A, 0x0B]\n",
    "corners = [0x00, 0x01, 0x02, 0x03, 0x04, 0x05, 0x06, 0x07]\n",
    "cube    = bytes(edges + corners)\n"
   ],
   "id": "initial_id",
   "outputs": [],
   "execution_count": 99
  },
  {
   "metadata": {
    "ExecuteTime": {
     "end_time": "2024-10-18T14:12:05.522911200Z",
     "start_time": "2024-10-18T14:12:05.518270800Z"
    }
   },
   "cell_type": "code",
   "source": [
    "def generate_new(members, generators):\n",
    "    candidates = dict()\n",
    "    for name, cube in members.items():\n",
    "        candidates.update({name + n: bytes([cube[0x0F & generator[i]] ^ (generator[i] & 0xF0)  for i in range(0,12)] +\n",
    "                                      [(cube[12 + (0x0F & generator[j])] & 0x0F) + (((cube[12 + (0x0F & generator[j])] & 0xF0) + (generator[j] & 0xF0))%0xC0)    for j in range(12, 20)])\n",
    "                           for n, generator in generators.items()} )\n",
    "        \n",
    "            \n",
    "    return candidates\n",
    "    \n",
    "    "
   ],
   "id": "28c1e6d473197a42",
   "outputs": [],
   "execution_count": 100
  },
  {
   "metadata": {
    "ExecuteTime": {
     "end_time": "2024-10-18T14:12:05.965424100Z",
     "start_time": "2024-10-18T14:12:05.961486800Z"
    }
   },
   "cell_type": "code",
   "source": [
    "# Define base permutations (clockwise quarter turns in each face - cubies numbered from 0\n",
    "moves = {'R': bytes([0x00, 0x01, 0x06, 0x07, 0x04, 0x05, 0x03, 0x02, 0x08, 0x09, 0x0A, 0x0B]+ [0x00, 0x01, 0x07, 0x06, 0x04, 0x05, 0x02, 0x03]),\n",
    "         'L': bytes([0x04, 0x05, 0x02, 0x03, 0x01, 0x00, 0x06, 0x07, 0x08, 0x09, 0x0A, 0x0B]+ [0x05, 0x04, 0x02, 0x03, 0x00, 0x01, 0x06, 0x07]),\n",
    "         'F': bytes([0x00, 0x01, 0x02, 0x03, 0x04, 0x09, 0x08, 0x07, 0x05, 0x06, 0x0A, 0x0B]+ [0x00, 0x86, 0x02, 0x84, 0x41, 0x05, 0x43, 0x07]),\n",
    "         'B': bytes([0x00, 0x01, 0x02, 0x03, 0x0B, 0x05, 0x06, 0x0A, 0x08, 0x09, 0x04, 0x07]+ [0x87, 0x01, 0x85, 0x03, 0x04, 0x40, 0x06, 0x42]),\n",
    "         'U': bytes([0x88, 0x01, 0x8B, 0x03, 0x04, 0x05, 0x06, 0x07, 0x82, 0x09, 0x0A, 0x80]+ [0x44, 0x01, 0x02, 0x47, 0x83, 0x05, 0x06, 0x80]),\n",
    "         'D': bytes([0x00, 0x8A, 0x02, 0x89, 0x04, 0x05, 0x06, 0x07, 0x08, 0x81, 0x83, 0x0B]+ [0x00, 0x45, 0x46, 0x03, 0x04, 0x82, 0x81, 0x07])\n",
    "         }"
   ],
   "id": "dad10bc59f4cb4a6",
   "outputs": [],
   "execution_count": 101
  },
  {
   "metadata": {
    "ExecuteTime": {
     "end_time": "2024-10-18T14:26:50.906456500Z",
     "start_time": "2024-10-18T14:26:50.898946100Z"
    }
   },
   "cell_type": "code",
   "source": [
    "mask =  bytes([0x00, 0x00, 0x00, 0xFF, 0x00, 0x00, 0x00, 0xFF, 0x00, 0x00, 0x00, 0xFF, 0x00, 0x00, 0x00, 0xFF,0x00, 0x00, 0x00, 0xFF])"
   ],
   "id": "4609f6701b27438",
   "outputs": [],
   "execution_count": 116
  },
  {
   "cell_type": "code",
   "execution_count": 119,
   "outputs": [
    {
     "data": {
      "text/plain": "[0, 0, 0, 3, 0, 0, 0, 7, 0, 0, 0, 11, 0, 0, 0, 3, 0, 0, 0, 7]"
     },
     "execution_count": 119,
     "metadata": {},
     "output_type": "execute_result"
    }
   ],
   "source": [
    "[cube[i] & mask[i]  for i in range(0,20)]"
   ],
   "metadata": {
    "collapsed": false,
    "ExecuteTime": {
     "end_time": "2024-10-18T14:29:54.405481300Z",
     "start_time": "2024-10-18T14:29:54.398459Z"
    }
   },
   "id": "c1b795c1fcd18770"
  },
  {
   "metadata": {
    "ExecuteTime": {
     "end_time": "2024-10-18T14:12:07.270931300Z",
     "start_time": "2024-10-18T14:12:07.268329800Z"
    }
   },
   "cell_type": "code",
   "source": [
    "squared_moves = generate_new(moves, moves)\n",
    "three_moves   = generate_new(moves, squared_moves)\n",
    "four_moves    = generate_new(squared_moves, squared_moves)\n",
    "\n",
    "   "
   ],
   "id": "9eaaea00e241da3b",
   "outputs": [],
   "execution_count": 103
  },
  {
   "metadata": {
    "ExecuteTime": {
     "end_time": "2024-10-18T14:13:34.773150900Z",
     "start_time": "2024-10-18T14:13:34.765643700Z"
    }
   },
   "cell_type": "code",
   "source": [
    "# Check that four moves brings youback to the start\n",
    "print(four_moves['UUUU'])\n",
    "print(four_moves['DDDD'])\n",
    "print(four_moves['FFFF'])\n",
    "print(four_moves['RRRR'])\n",
    "print(four_moves['LLLL'])\n",
    "print(four_moves['RRRR'])\n",
    "\n"
   ],
   "id": "b999129f1c0161da",
   "outputs": [
    {
     "name": "stdout",
     "output_type": "stream",
     "text": [
      "b'\\x00\\x01\\x02\\x03\\x04\\x05\\x06\\x07\\x08\\t\\n\\x0b\\x00\\x01\\x02\\x03\\x04\\x05\\x06\\x07'\n",
      "b'\\x00\\x01\\x02\\x03\\x04\\x05\\x06\\x07\\x08\\t\\n\\x0b\\x00\\x01\\x02\\x03\\x04\\x05\\x06\\x07'\n",
      "b'\\x00\\x01\\x02\\x03\\x04\\x05\\x06\\x07\\x08\\t\\n\\x0b\\x00\\x01\\x02\\x03\\x04\\x05\\x06\\x07'\n",
      "b'\\x00\\x01\\x02\\x03\\x04\\x05\\x06\\x07\\x08\\t\\n\\x0b\\x00\\x01\\x02\\x03\\x04\\x05\\x06\\x07'\n",
      "b'\\x00\\x01\\x02\\x03\\x04\\x05\\x06\\x07\\x08\\t\\n\\x0b\\x00\\x01\\x02\\x03\\x04\\x05\\x06\\x07'\n",
      "b'\\x00\\x01\\x02\\x03\\x04\\x05\\x06\\x07\\x08\\t\\n\\x0b\\x00\\x01\\x02\\x03\\x04\\x05\\x06\\x07'\n"
     ]
    }
   ],
   "execution_count": 108
  },
  {
   "cell_type": "code",
   "execution_count": 113,
   "outputs": [
    {
     "name": "stdout",
     "output_type": "stream",
     "text": [
      "b'\\x00\\x01\\x03\\x02\\x04\\x05\\x07\\x06\\x08\\t\\n\\x0b\\x00\\x01\\x03\\x02\\x04\\x05\\x07\\x06'\n",
      "b'\\x01\\x00\\x02\\x03\\x05\\x04\\x06\\x07\\x08\\t\\n\\x0b\\x01\\x00\\x02\\x03\\x05\\x04\\x06\\x07'\n",
      "b'\\x00\\x01\\x02\\x03\\x04\\x06\\x05\\x07\\t\\x08\\n\\x0b\\x00\\x03\\x02\\x01\\x06\\x05\\x04\\x07'\n",
      "b'\\x00\\x01\\x02\\x03\\x07\\x05\\x06\\x04\\x08\\t\\x0b\\n\\x02\\x01\\x00\\x03\\x04\\x07\\x06\\x05'\n",
      "b'\\x02\\x01\\x00\\x03\\x04\\x05\\x06\\x07\\x0b\\t\\n\\x08\\x03\\x01\\x02\\x00\\x07\\x05\\x06\\x04'\n",
      "b'\\x00\\x03\\x02\\x01\\x04\\x05\\x06\\x07\\x08\\n\\t\\x0b\\x00\\x02\\x01\\x03\\x04\\x06\\x05\\x07'\n"
     ]
    }
   ],
   "source": [
    "print(squared_moves['RR'])\n",
    "print(squared_moves['LL'])\n",
    "print(squared_moves['FF'])\n",
    "print(squared_moves['BB'])\n",
    "print(squared_moves['UU'])\n",
    "print(squared_moves['DD'])\n"
   ],
   "metadata": {
    "collapsed": false,
    "ExecuteTime": {
     "end_time": "2024-10-18T14:16:23.998082200Z",
     "start_time": "2024-10-18T14:16:23.994131Z"
    }
   },
   "id": "802aa579cfa252c0"
  },
  {
   "metadata": {
    "ExecuteTime": {
     "end_time": "2024-10-18T14:15:04.516393400Z",
     "start_time": "2024-10-18T14:15:04.509142300Z"
    }
   },
   "cell_type": "code",
   "source": [
    "print(three_moves['RRR'])\n",
    "print(three_moves['LLL'])\n",
    "print(three_moves['FFF'])\n",
    "print(three_moves['BBB'])\n",
    "print(three_moves['UUU'])\n",
    "print(three_moves['DDD'])\n"
   ],
   "id": "27c9b1d05be8450b",
   "outputs": [
    {
     "name": "stdout",
     "output_type": "stream",
     "text": [
      "b'\\x00\\x01\\x07\\x06\\x04\\x05\\x02\\x03\\x08\\t\\n\\x0b\\x00\\x01\\x06\\x07\\x04\\x05\\x03\\x02'\n",
      "b'\\x05\\x04\\x02\\x03\\x00\\x01\\x06\\x07\\x08\\t\\n\\x0b\\x04\\x05\\x02\\x03\\x01\\x00\\x06\\x07'\n",
      "b'\\x00\\x01\\x02\\x03\\x04\\x08\\t\\x07\\x06\\x05\\n\\x0b\\x00\\x84\\x02\\x86C\\x05A\\x07'\n",
      "b'\\x00\\x01\\x02\\x03\\n\\x05\\x06\\x0b\\x08\\t\\x07\\x04\\x85\\x01\\x87\\x03\\x04B\\x06@'\n",
      "b'\\x8b\\x01\\x88\\x03\\x04\\x05\\x06\\x07\\x80\\t\\n\\x82G\\x01\\x02D\\x80\\x05\\x06\\x83'\n",
      "b'\\x00\\x89\\x02\\x8a\\x04\\x05\\x06\\x07\\x08\\x83\\x81\\x0b\\x00FE\\x03\\x04\\x81\\x82\\x07'\n"
     ]
    }
   ],
   "execution_count": 112
  },
  {
   "cell_type": "code",
   "execution_count": null,
   "outputs": [],
   "source": [],
   "metadata": {
    "collapsed": false
   },
   "id": "bb43d3956b7a5074"
  }
 ],
 "metadata": {
  "kernelspec": {
   "display_name": "Python 3",
   "language": "python",
   "name": "python3"
  },
  "language_info": {
   "codemirror_mode": {
    "name": "ipython",
    "version": 2
   },
   "file_extension": ".py",
   "mimetype": "text/x-python",
   "name": "python",
   "nbconvert_exporter": "python",
   "pygments_lexer": "ipython2",
   "version": "2.7.6"
  }
 },
 "nbformat": 4,
 "nbformat_minor": 5
}
