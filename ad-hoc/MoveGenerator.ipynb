{
 "cells": [
  {
   "metadata": {
    "collapsed": true,
    "ExecuteTime": {
     "end_time": "2024-10-21T13:28:21.552637900Z",
     "start_time": "2024-10-21T13:28:21.539123300Z"
    }
   },
   "cell_type": "code",
   "source": [
    "# edges are encoded at 8 bit bytes. The first bit encodes flipped or not. The last 4 bits encode slice (0, 1, 2) and number within the slice (0, 1, 2, 3)\n",
    "\n",
    "edges   = [0x10, 0x11, 0x12, 0x13, 0x04, 0x05, 0x06, 0x07, 0x08, 0x09, 0x0A, 0x0B]\n",
    "corners = [0x00, 0x01, 0x02, 0x03, 0x04, 0x05, 0x06, 0x07]\n",
    "parity  = [0x00]\n",
    "cube    = bytes(edges + corners + parity)\n"
   ],
   "id": "initial_id",
   "outputs": [],
   "execution_count": 10
  },
  {
   "metadata": {
    "ExecuteTime": {
     "end_time": "2024-10-21T13:28:22.108859400Z",
     "start_time": "2024-10-21T13:28:22.102335600Z"
    }
   },
   "cell_type": "code",
   "source": [
    "def generate_new(members, generators):\n",
    "    candidates = dict()\n",
    "    for name, cube in members.items():\n",
    "        candidates.update({name + n: bytes([cube[0x0F & generator[i]] ^ (generator[i] & 0x80)  for i in range(0,12)] +\n",
    "                                           [(cube[12 + (0x0F & generator[j])] & 0x0F) + (((cube[12 + (0x0F & generator[j])] & 0xF0) + (generator[j] & 0xF0))%0xC0)    for j in range(12, 20)] +\n",
    "                                           [cube[20] ^ generator[20]])\n",
    "                           for n, generator in generators.items()} )\n",
    "        \n",
    "            \n",
    "    return candidates\n",
    "    \n",
    "    "
   ],
   "id": "28c1e6d473197a42",
   "outputs": [],
   "execution_count": 11
  },
  {
   "metadata": {
    "ExecuteTime": {
     "end_time": "2024-10-21T13:28:22.808887900Z",
     "start_time": "2024-10-21T13:28:22.799814900Z"
    }
   },
   "cell_type": "code",
   "source": [
    "# Define base permutations (clockwise quarter turns in each face - cubies numbered from 0\n",
    "moves = {'R': bytes([0x00, 0x01, 0x06, 0x07, 0x04, 0x05, 0x03, 0x02, 0x08, 0x09, 0x0A, 0x0B] + [0x00, 0x01, 0x07, 0x06, 0x04, 0x05, 0x02, 0x03] + [0x80]),\n",
    "         'L': bytes([0x04, 0x05, 0x02, 0x03, 0x01, 0x00, 0x06, 0x07, 0x08, 0x09, 0x0A, 0x0B] + [0x05, 0x04, 0x02, 0x03, 0x00, 0x01, 0x06, 0x07] + [0x80]),\n",
    "         'F': bytes([0x00, 0x01, 0x02, 0x03, 0x04, 0x09, 0x08, 0x07, 0x05, 0x06, 0x0A, 0x0B] + [0x00, 0x86, 0x02, 0x84, 0x41, 0x05, 0x43, 0x07] + [0x80]),\n",
    "         'B': bytes([0x00, 0x01, 0x02, 0x03, 0x0B, 0x05, 0x06, 0x0A, 0x08, 0x09, 0x04, 0x07] + [0x87, 0x01, 0x85, 0x03, 0x04, 0x40, 0x06, 0x42] + [0x80]),\n",
    "         'U': bytes([0x88, 0x01, 0x8B, 0x03, 0x04, 0x05, 0x06, 0x07, 0x82, 0x09, 0x0A, 0x80] + [0x44, 0x01, 0x02, 0x47, 0x83, 0x05, 0x06, 0x80] + [0x80]),\n",
    "         'D': bytes([0x00, 0x8A, 0x02, 0x89, 0x04, 0x05, 0x06, 0x07, 0x08, 0x81, 0x83, 0x0B] + [0x00, 0x45, 0x46, 0x03, 0x04, 0x82, 0x81, 0x07] + [0x80])\n",
    "         }"
   ],
   "id": "dad10bc59f4cb4a6",
   "outputs": [],
   "execution_count": 12
  },
  {
   "metadata": {
    "ExecuteTime": {
     "end_time": "2024-10-21T13:28:23.963709Z",
     "start_time": "2024-10-21T13:28:23.958701200Z"
    }
   },
   "cell_type": "code",
   "source": [
    "mask =  bytes([0x00, 0x00, 0x00, 0xFF, 0x00, 0x00, 0x00, 0xFF, 0x00, 0x00, 0x00, 0xFF, 0x00, 0x00, 0x00, 0xFF,0x00, 0x00, 0x00, 0xFF])"
   ],
   "id": "4609f6701b27438",
   "outputs": [],
   "execution_count": 13
  },
  {
   "cell_type": "code",
   "source": [
    "generate_new({'':cube},moves)"
   ],
   "metadata": {
    "collapsed": false,
    "ExecuteTime": {
     "end_time": "2024-10-21T13:35:22.441357400Z",
     "start_time": "2024-10-21T13:35:22.429720800Z"
    }
   },
   "id": "c1b795c1fcd18770",
   "outputs": [
    {
     "name": "stdout",
     "output_type": "stream",
     "text": [
      "b'\\x10\\x11\\x12\\x13\\x04\\x05\\x06\\x07\\x08\\t\\n\\x0b\\x00\\x01\\x02\\x03\\x04\\x05\\x06\\x07\\x00'\n"
     ]
    },
    {
     "data": {
      "text/plain": "{'R': b'\\x10\\x11\\x06\\x07\\x04\\x05\\x13\\x12\\x08\\t\\n\\x0b\\x00\\x01\\x07\\x06\\x04\\x05\\x02\\x03\\x80',\n 'L': b'\\x04\\x05\\x12\\x13\\x11\\x10\\x06\\x07\\x08\\t\\n\\x0b\\x05\\x04\\x02\\x03\\x00\\x01\\x06\\x07\\x80',\n 'F': b'\\x10\\x11\\x12\\x13\\x04\\t\\x08\\x07\\x05\\x06\\n\\x0b\\x00\\x86\\x02\\x84A\\x05C\\x07\\x80',\n 'B': b'\\x10\\x11\\x12\\x13\\x0b\\x05\\x06\\n\\x08\\t\\x04\\x07\\x87\\x01\\x85\\x03\\x04@\\x06B\\x80',\n 'U': b'\\x88\\x11\\x8b\\x13\\x04\\x05\\x06\\x07\\x92\\t\\n\\x90D\\x01\\x02G\\x83\\x05\\x06\\x80\\x80',\n 'D': b'\\x10\\x8a\\x12\\x89\\x04\\x05\\x06\\x07\\x08\\x91\\x93\\x0b\\x00EF\\x03\\x04\\x82\\x81\\x07\\x80'}"
     },
     "execution_count": 31,
     "metadata": {},
     "output_type": "execute_result"
    }
   ],
   "execution_count": 31
  },
  {
   "metadata": {
    "ExecuteTime": {
     "end_time": "2024-10-21T13:34:23.705485800Z",
     "start_time": "2024-10-21T13:34:23.681473100Z"
    }
   },
   "cell_type": "code",
   "source": [
    "squared_moves = generate_new(moves, moves)\n",
    "three_moves   = generate_new(moves, squared_moves)\n",
    "four_moves    = generate_new(squared_moves, squared_moves)\n",
    "\n",
    "   "
   ],
   "id": "9eaaea00e241da3b",
   "outputs": [],
   "execution_count": 28
  },
  {
   "metadata": {
    "ExecuteTime": {
     "end_time": "2024-10-21T13:34:27.213957200Z",
     "start_time": "2024-10-21T13:34:27.192359100Z"
    }
   },
   "cell_type": "code",
   "source": [
    "# Check that four moves brings youback to the start\n",
    "print(four_moves['UUUU'])\n",
    "print(four_moves['DDDD'])\n",
    "print(four_moves['FFFF'])\n",
    "print(four_moves['RRRR'])\n",
    "print(four_moves['LLLL'])\n",
    "print(four_moves['RRRR'])\n",
    "\n"
   ],
   "id": "b999129f1c0161da",
   "outputs": [
    {
     "name": "stdout",
     "output_type": "stream",
     "text": [
      "b'\\x00\\x01\\x02\\x03\\x04\\x05\\x06\\x07\\x08\\t\\n\\x0b\\x00\\x01\\x02\\x03\\x04\\x05\\x06\\x07\\x00'\n",
      "b'\\x00\\x01\\x02\\x03\\x04\\x05\\x06\\x07\\x08\\t\\n\\x0b\\x00\\x01\\x02\\x03\\x04\\x05\\x06\\x07\\x00'\n",
      "b'\\x00\\x01\\x02\\x03\\x04\\x05\\x06\\x07\\x08\\t\\n\\x0b\\x00\\x01\\x02\\x03\\x04\\x05\\x06\\x07\\x00'\n",
      "b'\\x00\\x01\\x02\\x03\\x04\\x05\\x06\\x07\\x08\\t\\n\\x0b\\x00\\x01\\x02\\x03\\x04\\x05\\x06\\x07\\x00'\n",
      "b'\\x00\\x01\\x02\\x03\\x04\\x05\\x06\\x07\\x08\\t\\n\\x0b\\x00\\x01\\x02\\x03\\x04\\x05\\x06\\x07\\x00'\n",
      "b'\\x00\\x01\\x02\\x03\\x04\\x05\\x06\\x07\\x08\\t\\n\\x0b\\x00\\x01\\x02\\x03\\x04\\x05\\x06\\x07\\x00'\n"
     ]
    }
   ],
   "execution_count": 29
  },
  {
   "metadata": {
    "ExecuteTime": {
     "end_time": "2024-10-19T08:25:27.404167Z",
     "start_time": "2024-10-19T08:25:27.399542Z"
    }
   },
   "cell_type": "code",
   "source": [
    "print('\\'R\\' :bytes(' + str(moves['R']) + ')')\n",
    "print('\\'L\\' :bytes(' + str(moves['L']) + ')')\n",
    "print('\\'F\\' :bytes(' + str(moves['F']) + ')')\n",
    "print('\\'B\\' :bytes(' + str(moves['B']) + ')')\n",
    "print('\\'U\\' :bytes(' + str(moves['U']) + ')')\n",
    "print('\\'D\\' :bytes(' + str(moves['D']) + ')')\n"
   ],
   "id": "384ebbaf43281741",
   "outputs": [
    {
     "name": "stdout",
     "output_type": "stream",
     "text": [
      "'R' :bytes(b'\\x00\\x01\\x06\\x07\\x04\\x05\\x03\\x02\\x08\\t\\n\\x0b\\x00\\x01\\x07\\x06\\x04\\x05\\x02\\x03\\x80')\n",
      "'L' :bytes(b'\\x04\\x05\\x02\\x03\\x01\\x00\\x06\\x07\\x08\\t\\n\\x0b\\x05\\x04\\x02\\x03\\x00\\x01\\x06\\x07\\x80')\n",
      "'F' :bytes(b'\\x00\\x01\\x02\\x03\\x04\\t\\x08\\x07\\x05\\x06\\n\\x0b\\x00\\x86\\x02\\x84A\\x05C\\x07\\x80')\n",
      "'B' :bytes(b'\\x00\\x01\\x02\\x03\\x0b\\x05\\x06\\n\\x08\\t\\x04\\x07\\x87\\x01\\x85\\x03\\x04@\\x06B\\x80')\n",
      "'U' :bytes(b'\\x88\\x01\\x8b\\x03\\x04\\x05\\x06\\x07\\x82\\t\\n\\x80D\\x01\\x02G\\x83\\x05\\x06\\x80\\x80')\n",
      "'D' :bytes(b'\\x00\\x8a\\x02\\x89\\x04\\x05\\x06\\x07\\x08\\x81\\x83\\x0b\\x00EF\\x03\\x04\\x82\\x81\\x07\\x80')\n"
     ]
    }
   ],
   "execution_count": 27
  },
  {
   "cell_type": "code",
   "source": [
    "print('\\'S\\' :bytes(' + str(squared_moves['RR']) + ')')\n",
    "print('\\'M\\' :bytes(' + str(squared_moves['LL']) + ')')\n",
    "print('\\'G\\' :bytes(' + str(squared_moves['FF']) + ')')\n",
    "print('\\'C\\' :bytes(' + str(squared_moves['BB']) + ')')\n",
    "print('\\'V\\' :bytes(' + str(squared_moves['UU']) + ')')\n",
    "print('\\'E\\' :bytes(' + str(squared_moves['DD']) + ')')\n"
   ],
   "metadata": {
    "collapsed": false,
    "ExecuteTime": {
     "end_time": "2024-10-21T13:34:49.945941500Z",
     "start_time": "2024-10-21T13:34:49.941351600Z"
    }
   },
   "id": "802aa579cfa252c0",
   "outputs": [
    {
     "name": "stdout",
     "output_type": "stream",
     "text": [
      "'S' :bytes(b'\\x00\\x01\\x03\\x02\\x04\\x05\\x07\\x06\\x08\\t\\n\\x0b\\x00\\x01\\x03\\x02\\x04\\x05\\x07\\x06\\x00')\n",
      "'M' :bytes(b'\\x01\\x00\\x02\\x03\\x05\\x04\\x06\\x07\\x08\\t\\n\\x0b\\x01\\x00\\x02\\x03\\x05\\x04\\x06\\x07\\x00')\n",
      "'G' :bytes(b'\\x00\\x01\\x02\\x03\\x04\\x06\\x05\\x07\\t\\x08\\n\\x0b\\x00\\x03\\x02\\x01\\x06\\x05\\x04\\x07\\x00')\n",
      "'C' :bytes(b'\\x00\\x01\\x02\\x03\\x07\\x05\\x06\\x04\\x08\\t\\x0b\\n\\x02\\x01\\x00\\x03\\x04\\x07\\x06\\x05\\x00')\n",
      "'V' :bytes(b'\\x02\\x01\\x00\\x03\\x04\\x05\\x06\\x07\\x0b\\t\\n\\x08\\x03\\x01\\x02\\x00\\x07\\x05\\x06\\x04\\x00')\n",
      "'E' :bytes(b'\\x00\\x03\\x02\\x01\\x04\\x05\\x06\\x07\\x08\\n\\t\\x0b\\x00\\x02\\x01\\x03\\x04\\x06\\x05\\x07\\x00')\n"
     ]
    }
   ],
   "execution_count": 30
  },
  {
   "metadata": {
    "ExecuteTime": {
     "end_time": "2024-10-19T08:30:52.571291Z",
     "start_time": "2024-10-19T08:30:52.566272Z"
    }
   },
   "cell_type": "code",
   "source": [
    "print('\\'r\\' :bytes(' + str(three_moves['RRR']) + ')')\n",
    "print('\\'l\\' :bytes(' + str(three_moves['LLL']) + ')')\n",
    "print('\\'f\\' :bytes(' + str(three_moves['FFF']) + ')')\n",
    "print('\\'b\\' :bytes(' + str(three_moves['BBB']) + ')')\n",
    "print('\\'u\\' :bytes(' + str(three_moves['UUU']) + ')')\n",
    "print('\\'d\\' :bytes(' + str(three_moves['DDD']) + ')')\n",
    "\n"
   ],
   "id": "27c9b1d05be8450b",
   "outputs": [
    {
     "name": "stdout",
     "output_type": "stream",
     "text": [
      "'r' :bytes(b'\\x00\\x01\\x07\\x06\\x04\\x05\\x02\\x03\\x08\\t\\n\\x0b\\x00\\x01\\x06\\x07\\x04\\x05\\x03\\x02\\x80')\n",
      "'l' :bytes(b'\\x05\\x04\\x02\\x03\\x00\\x01\\x06\\x07\\x08\\t\\n\\x0b\\x04\\x05\\x02\\x03\\x01\\x00\\x06\\x07\\x80')\n",
      "'f' :bytes(b'\\x00\\x01\\x02\\x03\\x04\\x08\\t\\x07\\x06\\x05\\n\\x0b\\x00\\x84\\x02\\x86C\\x05A\\x07\\x80')\n",
      "'b' :bytes(b'\\x00\\x01\\x02\\x03\\n\\x05\\x06\\x0b\\x08\\t\\x07\\x04\\x85\\x01\\x87\\x03\\x04B\\x06@\\x80')\n",
      "'u' :bytes(b'\\x8b\\x01\\x88\\x03\\x04\\x05\\x06\\x07\\x80\\t\\n\\x82G\\x01\\x02D\\x80\\x05\\x06\\x83\\x80')\n",
      "'d' :bytes(b'\\x00\\x89\\x02\\x8a\\x04\\x05\\x06\\x07\\x08\\x83\\x81\\x0b\\x00FE\\x03\\x04\\x81\\x82\\x07\\x80')\n"
     ]
    }
   ],
   "execution_count": 30
  },
  {
   "cell_type": "code",
   "execution_count": null,
   "outputs": [],
   "source": [],
   "metadata": {
    "collapsed": false
   },
   "id": "bb43d3956b7a5074"
  }
 ],
 "metadata": {
  "kernelspec": {
   "display_name": "Python 3",
   "language": "python",
   "name": "python3"
  },
  "language_info": {
   "codemirror_mode": {
    "name": "ipython",
    "version": 2
   },
   "file_extension": ".py",
   "mimetype": "text/x-python",
   "name": "python",
   "nbconvert_exporter": "python",
   "pygments_lexer": "ipython2",
   "version": "2.7.6"
  }
 },
 "nbformat": 4,
 "nbformat_minor": 5
}
