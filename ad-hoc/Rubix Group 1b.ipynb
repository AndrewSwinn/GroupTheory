{
 "cells": [
  {
   "cell_type": "code",
   "id": "initial_id",
   "metadata": {
    "collapsed": true,
    "ExecuteTime": {
     "end_time": "2024-10-16T18:47:31.915100Z",
     "start_time": "2024-10-16T18:47:31.911018Z"
    }
   },
   "source": [
    "# edges are encoded at 8 bit bytes. The first bit encodes flipped or not. The last 4 bits encode slice (0, 1, 2) and number within the slice (0, 1, 2, 3)\n",
    "\n",
    "edges   = [0x00, 0x01, 0x02, 0x03, 0x04, 0x05, 0x06, 0x07, 0x08, 0x09, 0x0A, 0x0B]\n",
    "corners = [0x00, 0x01, 0x02, 0x03, 0x04, 0x05, 0x06, 0x07]\n",
    "cube    = [edges, corners, corners]\n",
    "members = {' ': edges}\n"
   ],
   "outputs": [],
   "execution_count": 1
  },
  {
   "metadata": {
    "ExecuteTime": {
     "end_time": "2024-10-16T18:47:31.920646Z",
     "start_time": "2024-10-16T18:47:31.917983Z"
    }
   },
   "cell_type": "code",
   "source": [
    "def generate_new(members, generators):\n",
    "    members_list = [[element & 0x80 for element in member] for member in members.values()]\n",
    "    candidates, new_members = dict(), dict()\n",
    "    for name, edges in members.items():\n",
    "        candidates.update({name + n: [ edges[0x0F & edge] ^ (edge & 0xF0)   for edge in move  ] for n, move in moves.items()} )\n",
    "    for name, move in candidates.items():\n",
    "        flipped = [edge & 0xF0 for edge in move]\n",
    "        if flipped not in members_list:\n",
    "            \n",
    "            new_members[name] = move\n",
    "            members_list.append(flipped)\n",
    "    return new_members\n",
    "    \n",
    "    "
   ],
   "id": "28c1e6d473197a42",
   "outputs": [],
   "execution_count": 2
  },
  {
   "metadata": {
    "ExecuteTime": {
     "end_time": "2024-10-16T18:47:31.960469Z",
     "start_time": "2024-10-16T18:47:31.958149Z"
    }
   },
   "cell_type": "code",
   "source": [
    "# Define base permutations (clockwise quarter turns in each face - cubies numbered from 0\n",
    "moves = {'R': [0x00, 0x01, 0x06, 0x07, 0x04, 0x05, 0x03, 0x02, 0x08, 0x09, 0x0A, 0x0B],\n",
    "         'L': [0x04, 0x05, 0x02, 0x03, 0x01, 0x00, 0x06, 0x07, 0x08, 0x09, 0x0A, 0x0B],\n",
    "         'F': [0x00, 0x01, 0x02, 0x03, 0x04, 0x09, 0x08, 0x07, 0x05, 0x06, 0x0A, 0x0B],\n",
    "         'B': [0x00, 0x01, 0x02, 0x03, 0x0B, 0x05, 0x06, 0x0A, 0x08, 0x09, 0x04, 0x07], \n",
    "         'U': [0x88, 0x01, 0x8B, 0x03, 0x04, 0x05, 0x06, 0x07, 0x82, 0x09, 0x0A, 0x80],\n",
    "         'D': [0x00, 0x8A, 0x02, 0x89, 0x04, 0x05, 0x06, 0x07, 0x08, 0x81, 0x83, 0x0B]\n",
    "         }\n",
    "\n",
    "\n"
   ],
   "id": "dad10bc59f4cb4a6",
   "outputs": [],
   "execution_count": 3
  },
  {
   "metadata": {
    "ExecuteTime": {
     "end_time": "2024-10-16T18:47:32.641330Z",
     "start_time": "2024-10-16T18:47:31.964360Z"
    }
   },
   "cell_type": "code",
   "source": [
    "new, members = 1, {'': edges}\n",
    "while new > 0 :\n",
    "    new_members = generate_new(members, moves)\n",
    "    new = len(new_members)\n",
    "    members.update(new_members)"
   ],
   "id": "9eaaea00e241da3b",
   "outputs": [],
   "execution_count": 4
  },
  {
   "metadata": {},
   "cell_type": "markdown",
   "source": "",
   "id": "dc99f4d486a1a9e6"
  },
  {
   "metadata": {
    "ExecuteTime": {
     "end_time": "2024-10-16T18:47:32.648640Z",
     "start_time": "2024-10-16T18:47:32.645713Z"
    }
   },
   "cell_type": "code",
   "source": "len(members)",
   "id": "b999129f1c0161da",
   "outputs": [
    {
     "data": {
      "text/plain": [
       "2048"
      ]
     },
     "execution_count": 5,
     "metadata": {},
     "output_type": "execute_result"
    }
   ],
   "execution_count": 5
  },
  {
   "metadata": {
    "ExecuteTime": {
     "end_time": "2024-10-16T18:47:32.657484Z",
     "start_time": "2024-10-16T18:47:32.656336Z"
    }
   },
   "cell_type": "code",
   "source": "",
   "id": "6967cc01835a69e4",
   "outputs": [],
   "execution_count": null
  }
 ],
 "metadata": {
  "kernelspec": {
   "display_name": "Python 3",
   "language": "python",
   "name": "python3"
  },
  "language_info": {
   "codemirror_mode": {
    "name": "ipython",
    "version": 2
   },
   "file_extension": ".py",
   "mimetype": "text/x-python",
   "name": "python",
   "nbconvert_exporter": "python",
   "pygments_lexer": "ipython2",
   "version": "2.7.6"
  }
 },
 "nbformat": 4,
 "nbformat_minor": 5
}
