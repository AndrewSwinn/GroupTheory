{
 "cells": [
  {
   "metadata": {
    "collapsed": true,
    "ExecuteTime": {
     "end_time": "2024-10-18T13:31:38.561849800Z",
     "start_time": "2024-10-18T13:31:38.556593700Z"
    }
   },
   "cell_type": "code",
   "source": [
    "# Cubes are encoded as 0x14 (20) byte arrays. Bytes 0x00 - 0x0B encode edges. Bytes 0x0C -0x14 encode the corners\n",
    "# Edges bytes: the first bit encodes flipped or not; the last 4 bits encode slice (0, 1, 2) and number within the slice (0, 1, 2, 3)\n",
    "# Corner bytes: the first 2 bits encode the rotation. The last 3 bytes encode the number.\n",
    "\n",
    "cube = bytes(b'\\x00\\x01\\x02\\x03\\x04\\x05\\x06\\x07\\x08\\x09\\x0A\\x0B\\x00\\x01\\x02\\x03\\x04\\x05\\x06\\x07')\n",
    "\n",
    "# Define base permutations (clockwise quarter turns in each face - cubies numbered from 0\n",
    "moves = {'R': bytes(b'\\x00\\x01\\x06\\x07\\x04\\x05\\x03\\x02\\x08\\x09\\x0A\\x0B\\x00\\x01\\x07\\x06\\x04\\x05\\x02\\x03'),\n",
    "         'L': bytes(b'\\x04\\x05\\x02\\x03\\x01\\x00\\x06\\x07\\x08\\x09\\x0A\\x0B\\x05\\x04\\x02\\x03\\x00\\x01\\x06\\x07'),\n",
    "         'F': bytes(b'\\x00\\x01\\x02\\x03\\x04\\x09\\x08\\x07\\x05\\x06\\x0A\\x0B\\x00\\x86\\x02\\x84\\x41\\x05\\x43\\x07'),\n",
    "         'B': bytes(b'\\x00\\x01\\x02\\x03\\x0B\\x05\\x06\\x0A\\x08\\x09\\x04\\x07\\x87\\x01\\x85\\x03\\x04\\x40\\x06\\x42'),\n",
    "         'U': bytes(b'\\x88\\x01\\x8B\\x03\\x04\\x05\\x06\\x07\\x82\\x09\\x0A\\x80\\x44\\x01\\x02\\x47\\x83\\x05\\x06\\x80'),\n",
    "         'D': bytes(b'\\x00\\x8A\\x02\\x89\\x04\\x05\\x06\\x07\\x08\\x81\\x83\\x0B\\x00\\x45\\x46\\x03\\x04\\x82\\x81\\x07')}\n",
    "\n"
   ],
   "id": "initial_id",
   "outputs": [],
   "execution_count": 19
  },
  {
   "cell_type": "code",
   "execution_count": 32,
   "outputs": [],
   "source": [
    "def generate_new(members, generators):\n",
    "    candidates = dict()\n",
    "    for name, cube in members.items():\n",
    "        candidates.update({name + n: \n",
    "                                [cube[generator[i] & 0x0F] ^ (generator[i] & 0xF0)                                         for i in range(0,12)] + \n",
    "                                [(cube[generator[j] & 0x0F] & 0x0F) + (((cube[0x0F & generator[j]] & 0xF0) + (generator[j] & 0xF0))%0xC0)    for j in range(12,20) ]   \n",
    "                           for n, generator in generators.items()} )\n",
    "        \n",
    "            \n",
    "    return candidates"
   ],
   "metadata": {
    "collapsed": false,
    "ExecuteTime": {
     "end_time": "2024-10-18T13:46:40.985751100Z",
     "start_time": "2024-10-18T13:46:40.975184700Z"
    }
   },
   "id": "6b7e1e329d888a07"
  },
  {
   "metadata": {
    "ExecuteTime": {
     "end_time": "2024-10-18T13:47:11.480515100Z",
     "start_time": "2024-10-18T13:47:11.470835400Z"
    }
   },
   "cell_type": "code",
   "source": [
    "squared_moves = generate_new(moves, moves)\n",
    "quart_moves = generate_new(squared_moves, squared_moves)\n",
    "\n",
    "   "
   ],
   "id": "9eaaea00e241da3b",
   "outputs": [],
   "execution_count": 35
  },
  {
   "metadata": {
    "ExecuteTime": {
     "end_time": "2024-10-18T13:48:38.167717400Z",
     "start_time": "2024-10-18T13:48:38.163207700Z"
    }
   },
   "cell_type": "code",
   "source": [
    "print(quart_moves['BBBB'])\n",
    "\n"
   ],
   "id": "b999129f1c0161da",
   "outputs": [
    {
     "name": "stdout",
     "output_type": "stream",
     "text": [
      "[0, 1, 2, 3, 4, 5, 6, 7, 8, 9, 10, 11, 139, 1, 133, 3, 10, 64, 6, 66]\n"
     ]
    }
   ],
   "execution_count": 44
  },
  {
   "metadata": {
    "ExecuteTime": {
     "end_time": "2024-10-17T14:03:20.316269Z",
     "start_time": "2024-10-17T13:29:14.814686Z"
    }
   },
   "cell_type": "code",
   "source": [],
   "id": "27c9b1d05be8450b",
   "outputs": [],
   "execution_count": null
  }
 ],
 "metadata": {
  "kernelspec": {
   "display_name": "Python 3",
   "language": "python",
   "name": "python3"
  },
  "language_info": {
   "codemirror_mode": {
    "name": "ipython",
    "version": 2
   },
   "file_extension": ".py",
   "mimetype": "text/x-python",
   "name": "python",
   "nbconvert_exporter": "python",
   "pygments_lexer": "ipython2",
   "version": "2.7.6"
  }
 },
 "nbformat": 4,
 "nbformat_minor": 5
}
