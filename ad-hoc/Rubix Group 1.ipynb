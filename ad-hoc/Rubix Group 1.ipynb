{
 "cells": [
  {
   "cell_type": "code",
   "id": "initial_id",
   "metadata": {
    "collapsed": true,
    "ExecuteTime": {
     "end_time": "2024-10-15T16:09:00.197782Z",
     "start_time": "2024-10-15T16:09:00.193170Z"
    }
   },
   "source": [
    "def flip(cubie):\n",
    "    return cubie ^ 0x80 \n",
    "\n",
    "edges   = [0x01, 0x02, 0x03, 0x04, 0x05, 0x06, 0x07, 0x08, 0x09, 0x0A, 0x0B, 0x0C]\n",
    "corners = [0x01, 0x02, 0x03, 0x04, 0x05, 0x06, 0x07, 0x08]\n",
    "cube    = [edges, corners, corners]\n",
    "members = {' ': edges}\n"
   ],
   "outputs": [],
   "execution_count": 43
  },
  {
   "metadata": {
    "ExecuteTime": {
     "end_time": "2024-10-15T16:09:00.213909Z",
     "start_time": "2024-10-15T16:09:00.209790Z"
    }
   },
   "cell_type": "code",
   "source": [
    "# Define base permutations (clockwise quarter turns in each face - cubies numbered from 1\n",
    "moves = {'R': [1,2,7,8,5,6,4,3,9,10,11,12],\n",
    "         'L': [5,6,3,4,2,1,7,8,9,10,11,12],\n",
    "         'F': [1,2,3,4,5,10,9,8,6,7,11,12],\n",
    "         'B': [1,2,3,4,12,6,7,11,9,10,5,8],\n",
    "         'U': [flip(9),2,flip(12),4,5,6,7,8,flip(3),10,11,flip(1)],\n",
    "         'D': [1,flip(11),3,flip(10),5,6,7,8,9,flip(2),flip(4),12]\n",
    "         }\n",
    "\n",
    "\n"
   ],
   "id": "dad10bc59f4cb4a6",
   "outputs": [],
   "execution_count": 44
  },
  {
   "metadata": {
    "ExecuteTime": {
     "end_time": "2024-10-15T16:09:00.223490Z",
     "start_time": "2024-10-15T16:09:00.220132Z"
    }
   },
   "cell_type": "code",
   "source": [
    "def generate_new(members, generators):\n",
    "    members_list = [[element & 0xF0 for element in member] for member in members.values()]\n",
    "    candidates, new_members = dict(), dict()\n",
    "    for name, edges in members.items():\n",
    "        candidates.update({name + n: [ edges[0x0F & (edge-1)] ^ (edge & 0xF0)   for edge in move  ] for n, move in moves.items()} )\n",
    "    for name, move in candidates.items():\n",
    "        flipped = [edge & 0xF0 for edge in move]\n",
    "        if flipped not in members_list:\n",
    "            \n",
    "            new_members[name] = move\n",
    "            members_list.append(flipped)\n",
    "    return new_members\n",
    "    \n",
    "    "
   ],
   "id": "28c1e6d473197a42",
   "outputs": [],
   "execution_count": 45
  },
  {
   "metadata": {
    "ExecuteTime": {
     "end_time": "2024-10-15T16:09:00.968586Z",
     "start_time": "2024-10-15T16:09:00.233926Z"
    }
   },
   "cell_type": "code",
   "source": [
    "\n",
    "new, members = 1, {'': edges}\n",
    "while new > 0 :\n",
    "    new_members = generate_new(members, moves)\n",
    "    new = len(new_members)\n",
    "    members.update(new_members)"
   ],
   "id": "9eaaea00e241da3b",
   "outputs": [],
   "execution_count": 46
  },
  {
   "metadata": {},
   "cell_type": "markdown",
   "source": "",
   "id": "dc99f4d486a1a9e6"
  },
  {
   "metadata": {
    "ExecuteTime": {
     "end_time": "2024-10-15T16:09:00.977981Z",
     "start_time": "2024-10-15T16:09:00.975049Z"
    }
   },
   "cell_type": "code",
   "source": "len(members)",
   "id": "1b07f0efcc66d40c",
   "outputs": [
    {
     "data": {
      "text/plain": [
       "2048"
      ]
     },
     "execution_count": 47,
     "metadata": {},
     "output_type": "execute_result"
    }
   ],
   "execution_count": 47
  }
 ],
 "metadata": {
  "kernelspec": {
   "display_name": "Python 3",
   "language": "python",
   "name": "python3"
  },
  "language_info": {
   "codemirror_mode": {
    "name": "ipython",
    "version": 2
   },
   "file_extension": ".py",
   "mimetype": "text/x-python",
   "name": "python",
   "nbconvert_exporter": "python",
   "pygments_lexer": "ipython2",
   "version": "2.7.6"
  }
 },
 "nbformat": 4,
 "nbformat_minor": 5
}
