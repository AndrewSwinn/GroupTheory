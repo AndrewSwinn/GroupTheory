{
 "cells": [
  {
   "cell_type": "code",
   "id": "initial_id",
   "metadata": {
    "collapsed": true,
    "ExecuteTime": {
     "end_time": "2024-10-18T15:03:56.893493300Z",
     "start_time": "2024-10-18T15:03:56.890435700Z"
    }
   },
   "source": [
    "def flip(cubie):\n",
    "    return cubie ^ 0x80 \n",
    "\n",
    "edges   = [0x01, 0x02, 0x03, 0x04, 0x05, 0x06, 0x07, 0x08, 0x09, 0x0A, 0x0B, 0x0C]\n",
    "corners = [0x01, 0x02, 0x03, 0x04, 0x05, 0x06, 0x07, 0x08]\n",
    "cube    = [edges, corners, corners]\n",
    "members = {' ': edges}\n"
   ],
   "outputs": [],
   "execution_count": 1
  },
  {
   "metadata": {
    "ExecuteTime": {
     "end_time": "2024-10-18T15:03:56.902969100Z",
     "start_time": "2024-10-18T15:03:56.895493100Z"
    }
   },
   "cell_type": "code",
   "source": [
    "# Define base permutations (clockwise quarter turns in each face - cubies numbered from 1\n",
    "moves = {'R': [1,2,7,8,5,6,4,3,9,10,11,12],\n",
    "         'L': [5,6,3,4,2,1,7,8,9,10,11,12],\n",
    "         'F': [1,2,3,4,5,10,9,8,6,7,11,12],\n",
    "         'B': [1,2,3,4,12,6,7,11,9,10,5,8],\n",
    "         'U': [flip(9),2,flip(12),4,5,6,7,8,flip(3),10,11,flip(1)],\n",
    "         'D': [1,flip(11),3,flip(10),5,6,7,8,9,flip(2),flip(4),12]\n",
    "         }\n",
    "\n",
    "\n"
   ],
   "id": "dad10bc59f4cb4a6",
   "outputs": [],
   "execution_count": 2
  },
  {
   "metadata": {
    "ExecuteTime": {
     "end_time": "2024-10-18T15:03:56.914500100Z",
     "start_time": "2024-10-18T15:03:56.902969100Z"
    }
   },
   "cell_type": "code",
   "source": [
    "def generate_new(members, generators):\n",
    "    members_list = [[element & 0xF0 for element in member] for member in members.values()]\n",
    "    candidates, new_members = dict(), dict()\n",
    "    for name, edges in members.items():\n",
    "        candidates.update({name + n: [ edges[0x0F & (edge-1)] ^ (edge & 0xF0)   for edge in move  ] for n, move in moves.items()} )\n",
    "    for name, move in candidates.items():\n",
    "        flipped = [edge & 0xF0 for edge in move]\n",
    "        if flipped not in members_list:\n",
    "            \n",
    "            new_members[name] = move\n",
    "            members_list.append(flipped)\n",
    "    return new_members\n",
    "    \n",
    "    "
   ],
   "id": "28c1e6d473197a42",
   "outputs": [],
   "execution_count": 3
  },
  {
   "metadata": {
    "ExecuteTime": {
     "end_time": "2024-10-18T15:03:57.910448200Z",
     "start_time": "2024-10-18T15:03:56.914500100Z"
    }
   },
   "cell_type": "code",
   "source": [
    "\n",
    "new, members = 1, {'': edges}\n",
    "while new > 0 :\n",
    "    new_members = generate_new(members, moves)\n",
    "    new = len(new_members)\n",
    "    members.update(new_members)\n",
    "    print(len(members), new)"
   ],
   "id": "9eaaea00e241da3b",
   "outputs": [
    {
     "name": "stdout",
     "output_type": "stream",
     "text": [
      "3 2\n",
      "12 9\n",
      "60 48\n",
      "250 190\n",
      "794 544\n",
      "1628 834\n",
      "2031 403\n",
      "2048 17\n",
      "2048 0\n"
     ]
    }
   ],
   "execution_count": 4
  },
  {
   "metadata": {},
   "cell_type": "markdown",
   "source": [],
   "id": "dc99f4d486a1a9e6"
  },
  {
   "metadata": {
    "ExecuteTime": {
     "end_time": "2024-10-18T15:03:57.916641700Z",
     "start_time": "2024-10-18T15:03:57.910448200Z"
    }
   },
   "cell_type": "code",
   "source": [
    "len(members)"
   ],
   "id": "1b07f0efcc66d40c",
   "outputs": [
    {
     "data": {
      "text/plain": "2048"
     },
     "execution_count": 5,
     "metadata": {},
     "output_type": "execute_result"
    }
   ],
   "execution_count": 5
  },
  {
   "metadata": {
    "ExecuteTime": {
     "end_time": "2024-10-18T15:03:57.921334900Z",
     "start_time": "2024-10-18T15:03:57.917637300Z"
    }
   },
   "cell_type": "code",
   "outputs": [],
   "execution_count": 5,
   "source": [],
   "id": "a8a005bddbb477a6"
  }
 ],
 "metadata": {
  "kernelspec": {
   "display_name": "Python 3",
   "language": "python",
   "name": "python3"
  },
  "language_info": {
   "codemirror_mode": {
    "name": "ipython",
    "version": 2
   },
   "file_extension": ".py",
   "mimetype": "text/x-python",
   "name": "python",
   "nbconvert_exporter": "python",
   "pygments_lexer": "ipython2",
   "version": "2.7.6"
  }
 },
 "nbformat": 4,
 "nbformat_minor": 5
}
