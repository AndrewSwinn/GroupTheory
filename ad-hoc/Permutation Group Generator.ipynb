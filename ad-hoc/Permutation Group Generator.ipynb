{
 "cells": [
  {
   "cell_type": "code",
   "id": "initial_id",
   "metadata": {
    "collapsed": true,
    "ExecuteTime": {
     "end_time": "2025-02-11T12:58:52.747070700Z",
     "start_time": "2025-02-11T12:58:52.165784200Z"
    }
   },
   "source": [
    "import matplotlib\n",
    "import re\n",
    "from collections import deque"
   ],
   "outputs": [],
   "execution_count": 1
  },
  {
   "cell_type": "code",
   "execution_count": 2,
   "outputs": [],
   "source": [
    "dimension = 6\n",
    "\n",
    "identity = {'e': tuple([i for i in range(1, dimension + 1)])}"
   ],
   "metadata": {
    "collapsed": false,
    "ExecuteTime": {
     "end_time": "2025-02-11T12:58:53.616825600Z",
     "start_time": "2025-02-11T12:58:53.590487200Z"
    }
   },
   "id": "a344563ff8d21af3"
  },
  {
   "cell_type": "code",
   "execution_count": 3,
   "outputs": [
    {
     "data": {
      "text/plain": "{'e': (1, 2, 3, 4, 5, 6)}"
     },
     "execution_count": 3,
     "metadata": {},
     "output_type": "execute_result"
    }
   ],
   "source": [
    "identity"
   ],
   "metadata": {
    "collapsed": false,
    "ExecuteTime": {
     "end_time": "2025-02-11T12:58:55.177912100Z",
     "start_time": "2025-02-11T12:58:55.169415500Z"
    }
   },
   "id": "340451248ac1a1d4"
  },
  {
   "metadata": {
    "ExecuteTime": {
     "end_time": "2025-02-11T12:58:56.168027600Z",
     "start_time": "2025-02-11T12:58:56.161016200Z"
    }
   },
   "cell_type": "code",
   "source": [
    "#permutations = {'r': [(1,2,3), (4,5,6)], 'b': [(1,4),(2,5),(3,6)]} # generates S3 - symmetric\n",
    "#permutations = {'a': [(1,2,3,4,5,6)]}                              # generates C6 - cyclic\n",
    "#permutations = {'r': [(1,3,5)], 'b': [(1,2),(3,4)]}                # generates A5 - alternating    https://brauer.maths.qmul.ac.uk/Atlas/alt/A5/\n",
    "#permutations = {'a': [(1,2,3,4,5,6)], 'b': [(1,2)]}                # generates S6 symmetric\n",
    "permutations  = {'r': [(1,2,3,4,5,6)], 'f':[(2,6),(3,5)]}           # generates D6"
   ],
   "id": "f62af83f4e76b761",
   "outputs": [],
   "execution_count": 4
  },
  {
   "cell_type": "code",
   "execution_count": 5,
   "outputs": [],
   "source": [
    "def pretty_print(name):\n",
    "    pretty_name = ''\n",
    "    prior, count = '', 1\n",
    "    for action in name:\n",
    "        if action != prior:\n",
    "            if count>1: pretty_name += str(count)\n",
    "            pretty_name += action           \n",
    "            prior, count = action, 1\n",
    "        else:\n",
    "            count = count + 1\n",
    "    if count > 1:\n",
    "        pretty_name +=  str(count)\n",
    "    \n",
    "    return pretty_name\n",
    "\n"
   ],
   "metadata": {
    "collapsed": false,
    "ExecuteTime": {
     "end_time": "2025-02-11T12:58:57.368182100Z",
     "start_time": "2025-02-11T12:58:57.359655200Z"
    }
   },
   "id": "2920e2202c98ffbd"
  },
  {
   "cell_type": "code",
   "execution_count": 6,
   "outputs": [],
   "source": [
    "# Creates a group based on cyclic permutations\n",
    "group = dict()\n",
    "group.update(identity)\n",
    "new = True\n",
    "while new:\n",
    "    new, new_members = False, dict()\n",
    "    for member_name, member_permutation in group.items(): \n",
    "        \n",
    "        for name, permutes in permutations.items():\n",
    "            orig_permutation = list(member_permutation)\n",
    "            work_permutation = list(member_permutation)\n",
    "            new_name = (name + member_name).replace('e','')\n",
    "            for permute in permutes:\n",
    "                sublist = deque(permute)\n",
    "                sublist.rotate(1)\n",
    "                for i, element in enumerate(sublist):\n",
    "                    work_permutation[permute[i] - 1] = orig_permutation[sublist[i] -1]\n",
    "           \n",
    "            if (tuple(work_permutation) not in [permutation for permutation in group.values()]) and (tuple(work_permutation) not in [permutation for permutation in new_members.values()]):\n",
    "                new_members[new_name] = tuple(work_permutation)\n",
    "        \n",
    "    if len(new_members) > 0:  \n",
    "        new = True\n",
    "        group.update(new_members)     \n",
    "\n",
    "                   \n",
    "           \n",
    "\n"
   ],
   "metadata": {
    "collapsed": false,
    "ExecuteTime": {
     "end_time": "2025-02-11T12:58:59.247614800Z",
     "start_time": "2025-02-11T12:58:59.244622600Z"
    }
   },
   "id": "1d9fd63604ac54aa"
  },
  {
   "cell_type": "code",
   "execution_count": 7,
   "outputs": [],
   "source": [
    "# Takes 2 members of the group, multiplies them together and returns the product\n",
    "\n",
    "def group_multiply(member1, member2):\n",
    "    perm1, perm2 = list(group[member1]), list(group[member2])\n",
    "    result = tuple([perm1[i-1] for i in perm2])\n",
    "    for key, value in group.items():\n",
    "        if value == result:\n",
    "            return key\n",
    "    \n",
    "    "
   ],
   "metadata": {
    "collapsed": false,
    "ExecuteTime": {
     "end_time": "2025-02-11T12:59:02.169519400Z",
     "start_time": "2025-02-11T12:59:02.163009200Z"
    }
   },
   "id": "72ed175707dd3306"
  },
  {
   "cell_type": "code",
   "execution_count": 8,
   "outputs": [],
   "source": [
    "# Takes 2 members of a group and generates the coset of the action from the start. If the start is the identity it returns the sub-group\n",
    "\n",
    "def coset(actions, start='e'):\n",
    "    coset = set()\n",
    "    member = start\n",
    "    \n",
    "    for action in actions:\n",
    "        incomplete = True\n",
    "        while incomplete:\n",
    "            coset.add(member)\n",
    "            member = group_multiply(member, action)\n",
    "            if member == start: incomplete = False\n",
    "    return frozenset(coset)\n",
    "    "
   ],
   "metadata": {
    "collapsed": false,
    "ExecuteTime": {
     "end_time": "2025-02-11T12:59:08.657210200Z",
     "start_time": "2025-02-11T12:59:08.651199200Z"
    }
   },
   "id": "38746a4774b6535a"
  },
  {
   "cell_type": "code",
   "execution_count": 9,
   "outputs": [
    {
     "name": "stdout",
     "output_type": "stream",
     "text": [
      "e\tr\tf\tr2\tfr\trf\tr3\tfr2\tr2f\tfrf\tr4\tfr3\t\n",
      "r\tr2\tfr\tr3\tfr2\tf\tr4\tfr3\trf\te\tfrf\tr2f\t\n",
      "f\trf\te\tr2f\tfrf\tr\tfr3\tr4\tr2\tfr\tfr2\tr3\t\n",
      "r2\tr3\tfr2\tr4\tfr3\tfr\tfrf\tr2f\tf\tr\te\trf\t\n",
      "fr\tf\tr\trf\te\tr2\tr2f\tfrf\tr3\tfr2\tfr3\tr4\t\n",
      "rf\tr2f\tfrf\tfr3\tr4\te\tfr2\tr3\tr\tf\tfr\tr2\t\n",
      "r3\tr4\tfr3\tfrf\tr2f\tfr2\te\trf\tfr\tr2\tr\tf\t\n",
      "fr2\tfr\tr2\tf\tr\tr3\trf\te\tr4\tfr3\tr2f\tfrf\t\n",
      "r2f\tfr3\tr4\tfr2\tr3\tfrf\tfr\tr2\te\trf\tf\tr\t\n",
      "frf\te\trf\tr\tf\tr2f\tr2\tfr\tfr3\tr4\tr3\tfr2\t\n",
      "r4\tfrf\tr2f\te\trf\tfr3\tr\tf\tfr2\tr3\tr2\tfr\t\n",
      "fr3\tfr2\tr3\tfr\tr2\tr4\tf\tr\tfrf\tr2f\trf\te\t\n"
     ]
    }
   ],
   "source": [
    "for row in group.keys():\n",
    "    for column in group.keys():\n",
    "        print(pretty_print(group_multiply(row, column)), end='\\t')\n",
    "    print()"
   ],
   "metadata": {
    "collapsed": false,
    "ExecuteTime": {
     "end_time": "2025-02-11T12:59:24.808027300Z",
     "start_time": "2025-02-11T12:59:24.801743Z"
    }
   },
   "id": "10d6ce85f682acf8"
  },
  {
   "cell_type": "code",
   "execution_count": 10,
   "outputs": [
    {
     "data": {
      "text/plain": "12"
     },
     "execution_count": 10,
     "metadata": {},
     "output_type": "execute_result"
    }
   ],
   "source": [
    "len(group)"
   ],
   "metadata": {
    "collapsed": false,
    "ExecuteTime": {
     "end_time": "2025-02-11T12:59:26.629085500Z",
     "start_time": "2025-02-11T12:59:26.620666100Z"
    }
   },
   "id": "a8d6d713d061b69e"
  },
  {
   "cell_type": "code",
   "execution_count": 11,
   "outputs": [
    {
     "data": {
      "text/plain": "{'e': (1, 2, 3, 4, 5, 6),\n 'r': (6, 1, 2, 3, 4, 5),\n 'f': (1, 6, 5, 4, 3, 2),\n 'rr': (5, 6, 1, 2, 3, 4),\n 'fr': (6, 5, 4, 3, 2, 1),\n 'rf': (2, 1, 6, 5, 4, 3),\n 'rrr': (4, 5, 6, 1, 2, 3),\n 'frr': (5, 4, 3, 2, 1, 6),\n 'rrf': (3, 2, 1, 6, 5, 4),\n 'frf': (2, 3, 4, 5, 6, 1),\n 'rrrr': (3, 4, 5, 6, 1, 2),\n 'frrr': (4, 3, 2, 1, 6, 5)}"
     },
     "execution_count": 11,
     "metadata": {},
     "output_type": "execute_result"
    }
   ],
   "source": [
    "group"
   ],
   "metadata": {
    "collapsed": false,
    "ExecuteTime": {
     "end_time": "2025-02-11T12:59:29.847515700Z",
     "start_time": "2025-02-11T12:59:29.840977700Z"
    }
   },
   "id": "981e003b2b7eec16"
  },
  {
   "cell_type": "code",
   "execution_count": 12,
   "outputs": [
    {
     "name": "stdout",
     "output_type": "stream",
     "text": [
      "e e 1\n",
      "r r 1\n",
      "f f 1\n",
      "r2 rr 2\n",
      "fr fr 2\n",
      "rf rf 2\n",
      "r3 rrr 2\n",
      "fr2 frr 3\n",
      "r2f rrf 3\n",
      "frf frf 3\n",
      "r4 rrrr 2\n",
      "fr3 frrr 3\n"
     ]
    }
   ],
   "source": [
    "for member in group.keys():\n",
    "    name = pretty_print(member)\n",
    "    print(name, member, len(name))\n"
   ],
   "metadata": {
    "collapsed": false,
    "ExecuteTime": {
     "end_time": "2025-02-11T12:59:58.213750400Z",
     "start_time": "2025-02-11T12:59:58.204382600Z"
    }
   },
   "id": "8dfaafbef2df98ea"
  },
  {
   "cell_type": "code",
   "execution_count": 13,
   "outputs": [
    {
     "name": "stdout",
     "output_type": "stream",
     "text": [
      "fr3 e ['e']\n",
      "fr3 r ['r4', 'frf', 'r', 'r2', 'r3', 'e']\n",
      "fr3 f ['f', 'e']\n",
      "fr3 r2 ['r4', 'e', 'r2']\n",
      "fr3 fr ['fr', 'e']\n",
      "fr3 rf ['rf', 'e']\n",
      "fr3 r3 ['r3', 'e']\n",
      "fr3 fr2 ['fr2', 'e']\n",
      "fr3 r2f ['r2f', 'e']\n",
      "fr3 fr3 ['e', 'fr3']\n",
      "fr3 f ['f', 'r4', 'frf', 'r', 'r2', 'r3', 'e']\n",
      "fr3 fr ['r4', 'frf', 'r', 'r2', 'r3', 'fr', 'e']\n",
      "fr3 rf ['rf', 'r4', 'frf', 'r', 'r2', 'r3', 'e']\n",
      "fr3 fr2 ['r4', 'frf', 'r', 'r2', 'fr2', 'r3', 'e']\n",
      "fr3 r2f ['r4', 'frf', 'r', 'r2', 'r3', 'r2f', 'e']\n",
      "fr3 fr3 ['r4', 'frf', 'r', 'fr3', 'r2', 'r3', 'e']\n",
      "fr3 r2 ['r4', 'f', 'e', 'r2']\n",
      "fr3 fr ['f', 'fr', 'e']\n",
      "fr3 rf ['rf', 'f', 'e']\n",
      "fr3 r3 ['f', 'e', 'r3']\n",
      "fr3 fr2 ['fr2', 'f', 'e']\n",
      "fr3 r2f ['f', 'r2f', 'e']\n",
      "fr3 fr3 ['f', 'e', 'fr3']\n",
      "fr3 fr ['r4', 'fr', 'e', 'r2']\n",
      "fr3 rf ['rf', 'r4', 'e', 'r2']\n",
      "fr3 r3 ['r4', 'r3', 'e', 'r2']\n",
      "fr3 fr2 ['fr2', 'r4', 'e', 'r2']\n",
      "fr3 r2f ['r4', 'r2f', 'e', 'r2']\n",
      "fr3 fr3 ['r4', 'e', 'fr3', 'r2']\n",
      "fr3 rf ['rf', 'fr', 'e']\n",
      "fr3 r3 ['r3', 'fr', 'e']\n",
      "fr3 fr2 ['fr2', 'fr', 'e']\n",
      "fr3 r2f ['r2f', 'fr', 'e']\n",
      "fr3 fr3 ['fr', 'e', 'fr3']\n",
      "fr3 r3 ['rf', 'r3', 'e']\n",
      "fr3 fr2 ['rf', 'fr2', 'e']\n",
      "fr3 r2f ['rf', 'r2f', 'e']\n",
      "fr3 fr3 ['rf', 'e', 'fr3']\n",
      "fr3 fr2 ['fr2', 'r3', 'e']\n",
      "fr3 r2f ['r3', 'r2f', 'e']\n",
      "fr3 fr3 ['r3', 'e', 'fr3']\n",
      "fr3 r2f ['fr2', 'r2f', 'e']\n",
      "fr3 fr3 ['fr2', 'e', 'fr3']\n",
      "fr3 fr3 ['r2f', 'e', 'fr3']\n"
     ]
    }
   ],
   "source": [
    "cosets = set()\n",
    "for member1 in group:\n",
    "    for member2 in group:\n",
    "        subgroup = coset([member1, member2])   \n",
    "        if subgroup not in cosets:\n",
    "            cosets.add(subgroup)\n",
    "            pretty_subgroup = [pretty_print(member) for member in subgroup]\n",
    "            print(pretty_print(member), pretty_print(member2), pretty_subgroup)\n",
    "   \n",
    "    "
   ],
   "metadata": {
    "collapsed": false,
    "ExecuteTime": {
     "end_time": "2025-02-11T13:00:41.854410300Z",
     "start_time": "2025-02-11T13:00:41.843300100Z"
    }
   },
   "id": "6c8a597685c2808a"
  },
  {
   "cell_type": "code",
   "execution_count": 14,
   "outputs": [
    {
     "data": {
      "text/plain": "44"
     },
     "execution_count": 14,
     "metadata": {},
     "output_type": "execute_result"
    }
   ],
   "source": [
    "len(cosets)"
   ],
   "metadata": {
    "collapsed": false,
    "ExecuteTime": {
     "end_time": "2025-02-11T13:00:49.343825600Z",
     "start_time": "2025-02-11T13:00:49.337677200Z"
    }
   },
   "id": "174ca5b805089595"
  },
  {
   "cell_type": "code",
   "execution_count": null,
   "outputs": [],
   "source": [],
   "metadata": {
    "collapsed": false
   },
   "id": "6d0b711b52eed0fc"
  }
 ],
 "metadata": {
  "kernelspec": {
   "display_name": "Python 3",
   "language": "python",
   "name": "python3"
  },
  "language_info": {
   "codemirror_mode": {
    "name": "ipython",
    "version": 2
   },
   "file_extension": ".py",
   "mimetype": "text/x-python",
   "name": "python",
   "nbconvert_exporter": "python",
   "pygments_lexer": "ipython2",
   "version": "2.7.6"
  }
 },
 "nbformat": 4,
 "nbformat_minor": 5
}
