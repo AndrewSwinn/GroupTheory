{
 "cells": [
  {
   "cell_type": "code",
   "id": "initial_id",
   "metadata": {
    "collapsed": true,
    "ExecuteTime": {
     "end_time": "2024-11-11T09:17:04.804212Z",
     "start_time": "2024-11-11T09:17:04.428743Z"
    }
   },
   "source": [
    "import matplotlib\n",
    "import re"
   ],
   "outputs": [],
   "execution_count": 1
  },
  {
   "metadata": {
    "ExecuteTime": {
     "end_time": "2024-11-11T09:20:48.515002Z",
     "start_time": "2024-11-11T09:20:48.506023Z"
    }
   },
   "cell_type": "code",
   "source": [
    "identity    = ('e', [0,1,2,3,4,5])\n",
    "\n",
    "#permutations = [('a', [3,0,1,2]),  ('b', [1,0,2,3])] # generates S4 - symmetric\n",
    "#permutations = [('a', [3,0,1,2])]                    # generates C4 - cyclic \n",
    "permutations = [('a', [1,0,3,2]),  ('b', [0,2,3,1])] # generates A4 - alternating\n"
   ],
   "id": "f62af83f4e76b761",
   "outputs": [],
   "execution_count": 23
  },
  {
   "metadata": {
    "ExecuteTime": {
     "end_time": "2024-11-11T09:20:48.892501Z",
     "start_time": "2024-11-11T09:20:48.884863Z"
    }
   },
   "cell_type": "code",
   "source": [
    "def permute(member, permutation):\n",
    "    member_name, member_conf, permute_name, permute_conf = member[0], member[1], permutation[0], permutation[1]\n",
    "    new_name = (permute_name + member_name).replace('e','')\n",
    "    new_config = [member_conf[pos]  for pos in permute_conf]\n",
    "    return (new_name, new_config)\n",
    "    "
   ],
   "id": "41444ae4635209da",
   "outputs": [],
   "execution_count": 24
  },
  {
   "metadata": {
    "ExecuteTime": {
     "end_time": "2024-11-11T09:20:49.064292Z",
     "start_time": "2024-11-11T09:20:49.056144Z"
    }
   },
   "cell_type": "code",
   "source": [
    "group = [identity]\n",
    "new = True\n",
    "while new:\n",
    "    new = False\n",
    "    for member in group:\n",
    "        for permutation in permutations:\n",
    "             new_member= permute(member, permutation)\n",
    "             if new_member[1] not in [member[1] for member in group]:\n",
    "                group.append(new_member)\n",
    "                permutations.append(new_member)\n",
    "                new = True\n",
    "\n",
    "    "
   ],
   "id": "8573b8ef565429c4",
   "outputs": [],
   "execution_count": 25
  },
  {
   "metadata": {
    "ExecuteTime": {
     "end_time": "2024-11-11T09:20:49.225466Z",
     "start_time": "2024-11-11T09:20:49.204938Z"
    }
   },
   "cell_type": "code",
   "source": [
    "def pretty_print(name):\n",
    "    pretty_name = ''\n",
    "    prior, count = '', 1\n",
    "    for action in name:\n",
    "        if action != prior:\n",
    "            if count>1: pretty_name += str(count)\n",
    "            pretty_name += action           \n",
    "            prior, count = action, 1\n",
    "        else:\n",
    "            count = count + 1\n",
    "    if count > 1:\n",
    "        pretty_name +=  str(count)\n",
    "    \n",
    "    return pretty_name\n",
    "\n"
   ],
   "id": "2920e2202c98ffbd",
   "outputs": [],
   "execution_count": 26
  },
  {
   "metadata": {
    "ExecuteTime": {
     "end_time": "2024-11-11T09:20:49.750133Z",
     "start_time": "2024-11-11T09:20:49.739234Z"
    }
   },
   "cell_type": "code",
   "source": [
    "for member in group:\n",
    "    name = pretty_print(member[0])\n",
    "    print(name, member[1])\n"
   ],
   "id": "8dfaafbef2df98ea",
   "outputs": [
    {
     "name": "stdout",
     "output_type": "stream",
     "text": [
      "e [0, 1, 2, 3, 4, 5]\n",
      "a [1, 0, 3, 2]\n",
      "b [0, 2, 3, 1]\n",
      "a2 [0, 1, 2, 3]\n",
      "ba [1, 3, 2, 0]\n",
      "ab [2, 0, 1, 3]\n",
      "b2 [0, 3, 1, 2]\n",
      "bab [2, 1, 3, 0]\n",
      "ab2 [3, 0, 2, 1]\n",
      "bab2 [3, 2, 1, 0]\n",
      "aba [3, 1, 0, 2]\n",
      "b2a [1, 2, 0, 3]\n",
      "bab2a [2, 3, 0, 1]\n"
     ]
    }
   ],
   "execution_count": 27
  },
  {
   "metadata": {
    "ExecuteTime": {
     "end_time": "2024-11-11T09:17:12.693005Z",
     "start_time": "2024-11-11T09:17:12.677920Z"
    }
   },
   "cell_type": "code",
   "source": "len(group)",
   "id": "38746a4774b6535a",
   "outputs": [
    {
     "data": {
      "text/plain": [
       "12"
      ]
     },
     "execution_count": 7,
     "metadata": {},
     "output_type": "execute_result"
    }
   ],
   "execution_count": 7
  },
  {
   "metadata": {},
   "cell_type": "code",
   "outputs": [],
   "execution_count": null,
   "source": "",
   "id": "e70f83fd319b264e"
  }
 ],
 "metadata": {
  "kernelspec": {
   "display_name": "Python 3",
   "language": "python",
   "name": "python3"
  },
  "language_info": {
   "codemirror_mode": {
    "name": "ipython",
    "version": 2
   },
   "file_extension": ".py",
   "mimetype": "text/x-python",
   "name": "python",
   "nbconvert_exporter": "python",
   "pygments_lexer": "ipython2",
   "version": "2.7.6"
  }
 },
 "nbformat": 4,
 "nbformat_minor": 5
}
