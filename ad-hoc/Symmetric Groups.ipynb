{
 "cells": [
  {
   "cell_type": "code",
   "id": "initial_id",
   "metadata": {
    "collapsed": true,
    "ExecuteTime": {
     "end_time": "2024-10-15T10:17:41.507392Z",
     "start_time": "2024-10-15T10:17:41.504204Z"
    }
   },
   "source": "import itertools",
   "outputs": [],
   "execution_count": 1
  },
  {
   "metadata": {
    "ExecuteTime": {
     "end_time": "2024-10-15T12:14:00.655679Z",
     "start_time": "2024-10-15T12:14:00.650536Z"
    }
   },
   "cell_type": "code",
   "source": [
    "#Define the order of the group and create the root element (from which all elements are derived)\n",
    "symmetry = 5\n",
    "root  = [i for i in range(symmetry)]"
   ],
   "id": "a5561ff4bdb879cb",
   "outputs": [],
   "execution_count": 30
  },
  {
   "metadata": {
    "ExecuteTime": {
     "end_time": "2024-10-15T12:14:03.616112Z",
     "start_time": "2024-10-15T12:14:03.273063Z"
    }
   },
   "cell_type": "code",
   "source": [
    "symmetric_group   = [element for element in itertools.permutations(root)]\n",
    "symmetric_squared = [[element[i] for i in element] for element in symmetric_group] \n",
    "alternating_group = []\n",
    "_                 = [alternating_group.append(element) for element in symmetric_squared if element not in alternating_group]"
   ],
   "id": "9ff9c4098d83a6fd",
   "outputs": [],
   "execution_count": 31
  },
  {
   "metadata": {
    "ExecuteTime": {
     "end_time": "2024-10-15T12:14:03.624771Z",
     "start_time": "2024-10-15T12:14:03.621842Z"
    }
   },
   "cell_type": "code",
   "source": "len(alternating_group)\n",
   "id": "7c21bd269ececf58",
   "outputs": [
    {
     "data": {
      "text/plain": [
       "60"
      ]
     },
     "execution_count": 32,
     "metadata": {},
     "output_type": "execute_result"
    }
   ],
   "execution_count": 32
  }
 ],
 "metadata": {
  "kernelspec": {
   "display_name": "Python 3",
   "language": "python",
   "name": "python3"
  },
  "language_info": {
   "codemirror_mode": {
    "name": "ipython",
    "version": 2
   },
   "file_extension": ".py",
   "mimetype": "text/x-python",
   "name": "python",
   "nbconvert_exporter": "python",
   "pygments_lexer": "ipython2",
   "version": "2.7.6"
  }
 },
 "nbformat": 4,
 "nbformat_minor": 5
}
