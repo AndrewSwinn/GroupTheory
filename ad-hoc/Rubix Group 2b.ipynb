{
 "cells": [
  {
   "cell_type": "code",
   "execution_count": 9,
   "outputs": [],
   "source": [
    "from datetime import datetime"
   ],
   "metadata": {
    "collapsed": false,
    "ExecuteTime": {
     "end_time": "2024-10-18T15:05:53.311450Z",
     "start_time": "2024-10-18T15:05:53.304941200Z"
    }
   },
   "id": "b822fa5b562467bb"
  },
  {
   "cell_type": "code",
   "execution_count": 10,
   "outputs": [],
   "source": [
    "# edges are encoded at 8 bit bytes. The first bit encodes flipped or not. The last 4 bits encode slice (0, 1, 2) and number within the slice (0, 1, 2, 3)\n",
    "\n",
    "edges   = [0x00, 0x01, 0x02, 0x03, 0x04, 0x05, 0x06, 0x07, 0x08, 0x09, 0x0A, 0x0B]\n",
    "corners = [0x00, 0x01, 0x02, 0x03, 0x04, 0x05, 0x06, 0x07]\n",
    "cube    = bytes(edges + corners)\n",
    "\n"
   ],
   "metadata": {
    "collapsed": false,
    "ExecuteTime": {
     "end_time": "2024-10-18T15:05:53.499949600Z",
     "start_time": "2024-10-18T15:05:53.492148700Z"
    }
   },
   "id": "initial_id"
  },
  {
   "metadata": {
    "ExecuteTime": {
     "end_time": "2024-10-18T15:05:53.709957800Z",
     "start_time": "2024-10-18T15:05:53.706940900Z"
    }
   },
   "cell_type": "code",
   "source": [
    "def generate_new(members, generators, subgroup_mask):\n",
    "    \n",
    "    members_list = [[membercube[i] & subgroup_mask[i] for i in range(0,20)] for membercube in members.values()]\n",
    "   \n",
    "    candidates, new_members = dict(), dict()\n",
    "    \n",
    "    for name, membercube in members.items():\n",
    "        candidates.update({name + n: bytes([membercube[0x0F & generator[i]] ^ (generator[i] & 0xF0)  for i in range(0,12)] +\n",
    "                                      [(membercube[12 + (0x0F & generator[j])] & 0x0F) + (((membercube[12 + (0x0F & generator[j])] & 0xF0) + (generator[j] & 0xF0))%0xC0)    for j in range(12, 20)])\n",
    "                           for n, generator in generators.items()} )\n",
    "    \n",
    "      \n",
    "    for name, testcube in candidates.items():\n",
    "        candidate = [[testcube[i] & subgroup_mask[i] for i in range(0,20)] for cube in members.values()]\n",
    "        if candidate not in members_list:            \n",
    "            new_members[name] = testcube\n",
    "            members_list.append(candidate)\n",
    "            \n",
    "    return new_members\n",
    "    \n",
    "    "
   ],
   "id": "28c1e6d473197a42",
   "outputs": [],
   "execution_count": 11
  },
  {
   "metadata": {
    "ExecuteTime": {
     "end_time": "2024-10-18T15:05:54.141065700Z",
     "start_time": "2024-10-18T15:05:54.133861600Z"
    }
   },
   "cell_type": "code",
   "source": [
    "# Define base permutations (clockwise quarter turns in each face - cubies numbered from 0\n",
    "moves = {'R':  bytes([0x00, 0x01, 0x06, 0x07, 0x04, 0x05, 0x03, 0x02, 0x08, 0x09, 0x0A, 0x0B]+ [0x00, 0x01, 0x07, 0x06, 0x04, 0x05, 0x02, 0x03]),\n",
    "         'L':  bytes([0x04, 0x05, 0x02, 0x03, 0x01, 0x00, 0x06, 0x07, 0x08, 0x09, 0x0A, 0x0B]+ [0x05, 0x04, 0x02, 0x03, 0x00, 0x01, 0x06, 0x07]),\n",
    "         'F':  bytes([0x00, 0x01, 0x02, 0x03, 0x04, 0x09, 0x08, 0x07, 0x05, 0x06, 0x0A, 0x0B]+ [0x00, 0x86, 0x02, 0x84, 0x41, 0x05, 0x43, 0x07]),\n",
    "         'B':  bytes([0x00, 0x01, 0x02, 0x03, 0x0B, 0x05, 0x06, 0x0A, 0x08, 0x09, 0x04, 0x07]+ [0x87, 0x01, 0x85, 0x03, 0x04, 0x40, 0x06, 0x42]),\n",
    "         'U':  bytes([0x88, 0x01, 0x8B, 0x03, 0x04, 0x05, 0x06, 0x07, 0x82, 0x09, 0x0A, 0x80]+ [0x44, 0x01, 0x02, 0x47, 0x83, 0x05, 0x06, 0x80]),\n",
    "         'D':  bytes([0x00, 0x8A, 0x02, 0x89, 0x04, 0x05, 0x06, 0x07, 0x08, 0x81, 0x83, 0x0B]+ [0x00, 0x45, 0x46, 0x03, 0x04, 0x82, 0x81, 0x07])}\n",
    "#         'UU': bytes([2, 1, 0, 3, 4, 5, 6, 7, 11, 9, 10, 8]+ [3, 1, 2, 0, 7, 5, 6, 4]),\n",
    "#         'DD': bytes([0, 3, 2, 1, 4, 5, 6, 7, 8, 10, 9, 11]+ [0, 2, 1, 3, 4, 6, 5, 7])}"
   ],
   "id": "dad10bc59f4cb4a6",
   "outputs": [],
   "execution_count": 12
  },
  {
   "metadata": {
    "jupyter": {
     "is_executing": true
    },
    "ExecuteTime": {
     "end_time": "2024-10-18T15:10:42.563168500Z",
     "start_time": "2024-10-18T15:07:25.453448600Z"
    }
   },
   "cell_type": "code",
   "source": [
    "start = datetime.now()\n",
    "#group 1 subgroup_masks = [[0x80], [0x00]]\n",
    "#group 2 subgroup_masks = [[0x04], [0xC0]]\n",
    "subgroup_masks = [[0x80], [0x00]]\n",
    "bit_mask = bytes(subgroup_masks[0] * 12 + subgroup_masks[1] * 8 )\n",
    "new, members = 1, {'': cube}\n",
    "loop = 0\n",
    "while new > 0 :\n",
    "    new_members = generate_new(members, moves, bit_mask)\n",
    "    new = len(new_members)\n",
    "    print(str((datetime.now() - start)), len(members), len(new_members))\n",
    "    members.update(new_members)\n",
    "\n",
    "\n",
    "    loop += 1\n",
    "   "
   ],
   "id": "9eaaea00e241da3b",
   "outputs": [
    {
     "name": "stdout",
     "output_type": "stream",
     "text": [
      "0:00:00 1 3\n",
      "0:00:00.000992 4 12\n",
      "0:00:00.002005 13 60\n",
      "0:00:00.033107 61 250\n",
      "0:00:00.742878 251 794\n",
      "0:00:06.167488 795 1628\n",
      "0:00:28.790191 1629 2031\n",
      "0:01:03.157749 2032 2048\n",
      "0:01:38.252589 2049 2048\n",
      "0:02:13.105222 2049 2048\n",
      "0:02:48.753468 2049 2048\n"
     ]
    },
    {
     "ename": "KeyboardInterrupt",
     "evalue": "",
     "output_type": "error",
     "traceback": [
      "\u001B[1;31m---------------------------------------------------------------------------\u001B[0m",
      "\u001B[1;31mKeyboardInterrupt\u001B[0m                         Traceback (most recent call last)",
      "Cell \u001B[1;32mIn[16], line 9\u001B[0m\n\u001B[0;32m      7\u001B[0m loop \u001B[38;5;241m=\u001B[39m \u001B[38;5;241m0\u001B[39m\n\u001B[0;32m      8\u001B[0m \u001B[38;5;28;01mwhile\u001B[39;00m new \u001B[38;5;241m>\u001B[39m \u001B[38;5;241m0\u001B[39m :\n\u001B[1;32m----> 9\u001B[0m     new_members \u001B[38;5;241m=\u001B[39m \u001B[43mgenerate_new\u001B[49m\u001B[43m(\u001B[49m\u001B[43mmembers\u001B[49m\u001B[43m,\u001B[49m\u001B[43m \u001B[49m\u001B[43mmoves\u001B[49m\u001B[43m,\u001B[49m\u001B[43m \u001B[49m\u001B[43mbit_mask\u001B[49m\u001B[43m)\u001B[49m\n\u001B[0;32m     10\u001B[0m     new \u001B[38;5;241m=\u001B[39m \u001B[38;5;28mlen\u001B[39m(new_members)\n\u001B[0;32m     11\u001B[0m     \u001B[38;5;28mprint\u001B[39m(\u001B[38;5;28mstr\u001B[39m((datetime\u001B[38;5;241m.\u001B[39mnow() \u001B[38;5;241m-\u001B[39m start)), \u001B[38;5;28mlen\u001B[39m(members), \u001B[38;5;28mlen\u001B[39m(new_members))\n",
      "Cell \u001B[1;32mIn[11], line 14\u001B[0m, in \u001B[0;36mgenerate_new\u001B[1;34m(members, generators, subgroup_mask)\u001B[0m\n\u001B[0;32m      8\u001B[0m     candidates\u001B[38;5;241m.\u001B[39mupdate({name \u001B[38;5;241m+\u001B[39m n: \u001B[38;5;28mbytes\u001B[39m([membercube[\u001B[38;5;241m0x0F\u001B[39m \u001B[38;5;241m&\u001B[39m generator[i]] \u001B[38;5;241m^\u001B[39m (generator[i] \u001B[38;5;241m&\u001B[39m \u001B[38;5;241m0xF0\u001B[39m)  \u001B[38;5;28;01mfor\u001B[39;00m i \u001B[38;5;129;01min\u001B[39;00m \u001B[38;5;28mrange\u001B[39m(\u001B[38;5;241m0\u001B[39m,\u001B[38;5;241m12\u001B[39m)] \u001B[38;5;241m+\u001B[39m\n\u001B[0;32m      9\u001B[0m                                   [(membercube[\u001B[38;5;241m12\u001B[39m \u001B[38;5;241m+\u001B[39m (\u001B[38;5;241m0x0F\u001B[39m \u001B[38;5;241m&\u001B[39m generator[j])] \u001B[38;5;241m&\u001B[39m \u001B[38;5;241m0x0F\u001B[39m) \u001B[38;5;241m+\u001B[39m (((membercube[\u001B[38;5;241m12\u001B[39m \u001B[38;5;241m+\u001B[39m (\u001B[38;5;241m0x0F\u001B[39m \u001B[38;5;241m&\u001B[39m generator[j])] \u001B[38;5;241m&\u001B[39m \u001B[38;5;241m0xF0\u001B[39m) \u001B[38;5;241m+\u001B[39m (generator[j] \u001B[38;5;241m&\u001B[39m \u001B[38;5;241m0xF0\u001B[39m))\u001B[38;5;241m%\u001B[39m\u001B[38;5;241m0xC0\u001B[39m)    \u001B[38;5;28;01mfor\u001B[39;00m j \u001B[38;5;129;01min\u001B[39;00m \u001B[38;5;28mrange\u001B[39m(\u001B[38;5;241m12\u001B[39m, \u001B[38;5;241m20\u001B[39m)])\n\u001B[0;32m     10\u001B[0m                        \u001B[38;5;28;01mfor\u001B[39;00m n, generator \u001B[38;5;129;01min\u001B[39;00m generators\u001B[38;5;241m.\u001B[39mitems()} )\n\u001B[0;32m     13\u001B[0m \u001B[38;5;28;01mfor\u001B[39;00m name, testcube \u001B[38;5;129;01min\u001B[39;00m candidates\u001B[38;5;241m.\u001B[39mitems():\n\u001B[1;32m---> 14\u001B[0m     candidate \u001B[38;5;241m=\u001B[39m [[testcube[i] \u001B[38;5;241m&\u001B[39m subgroup_mask[i] \u001B[38;5;28;01mfor\u001B[39;00m i \u001B[38;5;129;01min\u001B[39;00m \u001B[38;5;28mrange\u001B[39m(\u001B[38;5;241m0\u001B[39m,\u001B[38;5;241m20\u001B[39m)] \u001B[38;5;28;01mfor\u001B[39;00m cube \u001B[38;5;129;01min\u001B[39;00m members\u001B[38;5;241m.\u001B[39mvalues()]\n\u001B[0;32m     15\u001B[0m     \u001B[38;5;28;01mif\u001B[39;00m candidate \u001B[38;5;129;01mnot\u001B[39;00m \u001B[38;5;129;01min\u001B[39;00m members_list:            \n\u001B[0;32m     16\u001B[0m         new_members[name] \u001B[38;5;241m=\u001B[39m testcube\n",
      "\u001B[1;31mKeyboardInterrupt\u001B[0m: "
     ]
    }
   ],
   "execution_count": 16
  },
  {
   "cell_type": "code",
   "execution_count": null,
   "outputs": [],
   "source": [],
   "metadata": {
    "collapsed": false,
    "ExecuteTime": {
     "start_time": "2024-10-18T15:00:13.614593800Z"
    }
   },
   "id": "3faec0399f97004f"
  },
  {
   "cell_type": "code",
   "execution_count": null,
   "outputs": [],
   "source": [],
   "metadata": {
    "collapsed": false,
    "ExecuteTime": {
     "start_time": "2024-10-18T15:00:13.616596500Z"
    }
   },
   "id": "358baf3140ee73ea"
  }
 ],
 "metadata": {
  "kernelspec": {
   "display_name": "Python 3",
   "language": "python",
   "name": "python3"
  },
  "language_info": {
   "codemirror_mode": {
    "name": "ipython",
    "version": 2
   },
   "file_extension": ".py",
   "mimetype": "text/x-python",
   "name": "python",
   "nbconvert_exporter": "python",
   "pygments_lexer": "ipython2",
   "version": "2.7.6"
  }
 },
 "nbformat": 4,
 "nbformat_minor": 5
}
