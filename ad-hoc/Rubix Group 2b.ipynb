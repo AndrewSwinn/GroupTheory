{
 "cells": [
  {
   "metadata": {
    "collapsed": true,
    "ExecuteTime": {
     "end_time": "2024-10-17T14:08:24.492752Z",
     "start_time": "2024-10-17T14:08:24.487824Z"
    }
   },
   "cell_type": "code",
   "source": [
    "# edges are encoded at 8 bit bytes. The first bit encodes flipped or not. The last 4 bits encode slice (0, 1, 2) and number within the slice (0, 1, 2, 3)\n",
    "\n",
    "edges   = [0x00, 0x01, 0x02, 0x03, 0x04, 0x05, 0x06, 0x07, 0x08, 0x09, 0x0A, 0x0B]\n",
    "corners = [0x00, 0x01, 0x02, 0x03, 0x04, 0x05, 0x06, 0x07]\n",
    "cube    = [edges, corners]\n",
    "\n"
   ],
   "id": "initial_id",
   "outputs": [],
   "execution_count": 1
  },
  {
   "metadata": {
    "ExecuteTime": {
     "end_time": "2024-10-17T14:08:24.501376Z",
     "start_time": "2024-10-17T14:08:24.496550Z"
    }
   },
   "cell_type": "code",
   "source": [
    "def generate_new(members, generators, subgroup_masks):\n",
    "    \n",
    "    members_list = [[[edge & subgroup_masks[0] for edge in edges], [corner & subgroup_masks[1] for corner in corners] ]  for [edges, corners] in members.values()]\n",
    "    \n",
    "    \n",
    "    candidates, new_members = dict(), dict()\n",
    "    \n",
    "    for name, [edges, corners] in members.items():\n",
    "        candidates.update({name + n: [[edges[0x0F & edge]     ^ (edge & 0xF0)                                         for edge in edgemove], \n",
    "                                      [(corners[0x0F & corner] & 0x0F) + (((corners[0x0F & corner] & 0xF0) + (corner & 0xF0))%0xC0)    for corner in cornermove ] ]  for n, [edgemove, cornermove] in generators.items()} )\n",
    "        \n",
    "    for name, [edges, corners] in candidates.items():\n",
    "        candidate = [[edge & subgroup_masks[0] for edge in edges], [corner & subgroup_masks[1] for corner in corners] ]\n",
    "        if candidate not in members_list:            \n",
    "            new_members[name] = [edges, corners]\n",
    "            members_list.append(candidate)\n",
    "            \n",
    "    return new_members\n",
    "    \n",
    "    "
   ],
   "id": "28c1e6d473197a42",
   "outputs": [],
   "execution_count": 2
  },
  {
   "metadata": {
    "ExecuteTime": {
     "end_time": "2024-10-17T14:08:24.549094Z",
     "start_time": "2024-10-17T14:08:24.546360Z"
    }
   },
   "cell_type": "code",
   "source": [
    "# Define base permutations (clockwise quarter turns in each face - cubies numbered from 0\n",
    "moves = {'R':  [[0x00, 0x01, 0x06, 0x07, 0x04, 0x05, 0x03, 0x02, 0x08, 0x09, 0x0A, 0x0B], [0x00, 0x01, 0x07, 0x06, 0x04, 0x05, 0x02, 0x03]],\n",
    "         'L':  [[0x04, 0x05, 0x02, 0x03, 0x01, 0x00, 0x06, 0x07, 0x08, 0x09, 0x0A, 0x0B], [0x05, 0x04, 0x02, 0x03, 0x00, 0x01, 0x06, 0x07]],\n",
    "         'F':  [[0x00, 0x01, 0x02, 0x03, 0x04, 0x09, 0x08, 0x07, 0x05, 0x06, 0x0A, 0x0B], [0x00, 0x86, 0x02, 0x84, 0x41, 0x05, 0x43, 0x07]],\n",
    "         'B':  [[0x00, 0x01, 0x02, 0x03, 0x0B, 0x05, 0x06, 0x0A, 0x08, 0x09, 0x04, 0x07], [0x87, 0x01, 0x85, 0x03, 0x04, 0x40, 0x06, 0x42]],\n",
    "        # 'U':  [[0x88, 0x01, 0x8B, 0x03, 0x04, 0x05, 0x06, 0x07, 0x82, 0x09, 0x0A, 0x80], [0x44, 0x01, 0x02, 0x47, 0x83, 0x05, 0x06, 0x80]],\n",
    "        # 'D':  [[0x00, 0x8A, 0x02, 0x89, 0x04, 0x05, 0x06, 0x07, 0x08, 0x81, 0x83, 0x0B], [0x00, 0x45, 0x46, 0x03, 0x04, 0x82, 0x81, 0x07]]\n",
    "         'UU': [[2, 1, 0, 3, 4, 5, 6, 7, 11, 9, 10, 8], [3, 1, 2, 0, 7, 5, 6, 4]],\n",
    "         'DD': [[0, 3, 2, 1, 4, 5, 6, 7, 8, 10, 9, 11], [0, 2, 1, 3, 4, 6, 5, 7]]}"
   ],
   "id": "dad10bc59f4cb4a6",
   "outputs": [],
   "execution_count": 3
  },
  {
   "metadata": {
    "jupyter": {
     "is_executing": true
    },
    "ExecuteTime": {
     "start_time": "2024-10-17T14:08:24.553255Z"
    }
   },
   "cell_type": "code",
   "source": [
    "#group 1 subgroup_masks = [0x80, 0x00]\n",
    "subgroup_masks = [0x04, 0xC0]\n",
    "new, members = 1, {'': cube}\n",
    "while new > 0 :\n",
    "    new_members = generate_new(members, moves, subgroup_masks)\n",
    "    new = len(new_members)\n",
    "    members.update(new_members)\n",
    "    print(len(members), len(new_members))"
   ],
   "id": "9eaaea00e241da3b",
   "outputs": [
    {
     "name": "stdout",
     "output_type": "stream",
     "text": [
      "5 4\n",
      "23 18\n",
      "107 84\n",
      "469 362\n",
      "2085 1616\n",
      "9262 7177\n",
      "40446 31184\n",
      "162750 122304\n"
     ]
    }
   ],
   "execution_count": null
  }
 ],
 "metadata": {
  "kernelspec": {
   "display_name": "Python 3",
   "language": "python",
   "name": "python3"
  },
  "language_info": {
   "codemirror_mode": {
    "name": "ipython",
    "version": 2
   },
   "file_extension": ".py",
   "mimetype": "text/x-python",
   "name": "python",
   "nbconvert_exporter": "python",
   "pygments_lexer": "ipython2",
   "version": "2.7.6"
  }
 },
 "nbformat": 4,
 "nbformat_minor": 5
}
