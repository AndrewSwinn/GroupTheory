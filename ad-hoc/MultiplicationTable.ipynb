{
 "cells": [
  {
   "cell_type": "code",
   "id": "initial_id",
   "metadata": {
    "ExecuteTime": {
     "end_time": "2024-11-29T09:50:36.628435Z",
     "start_time": "2024-11-29T09:50:35.911408Z"
    }
   },
   "source": [
    "from src.Group import Group\n",
    "import matplotlib.pyplot as plt\n",
    "import numpy as np"
   ],
   "outputs": [],
   "execution_count": 1
  },
  {
   "cell_type": "code",
   "id": "cf7dc1d0985d0f37",
   "metadata": {
    "collapsed": false,
    "jupyter": {
     "outputs_hidden": false
    },
    "ExecuteTime": {
     "end_time": "2024-11-29T09:50:36.642604Z",
     "start_time": "2024-11-29T09:50:36.637447Z"
    }
   },
   "source": [
    "D5 = Group(generators={'a': [(1,2,3,4,5,6)], 'b':[(2,6),(3,5)]} )\n"
   ],
   "outputs": [],
   "execution_count": 2
  },
  {
   "cell_type": "code",
   "id": "65861fd4efe091be",
   "metadata": {
    "collapsed": false,
    "jupyter": {
     "outputs_hidden": false
    },
    "ExecuteTime": {
     "end_time": "2024-11-29T09:50:37.291142Z",
     "start_time": "2024-11-29T09:50:36.736643Z"
    }
   },
   "source": [
    " def multiplication_table(group):\n",
    "        order = len(group.elements)\n",
    "        table = np.zeros(shape=(order, order))\n",
    "\n",
    "        for i in group.elements:\n",
    "            for j in group.elements:\n",
    "                product = group.element_multiply(i, j)\n",
    "                table[i.number - 1, j.number - 1] = product.number\n",
    "        return table\n",
    "        \n",
    "mult  = multiplication_table(D5)"
   ],
   "outputs": [
    {
     "ename": "TypeError",
     "evalue": "unsupported operand type(s) for -: 'list' and 'int'",
     "output_type": "error",
     "traceback": [
      "\u001B[1;31m---------------------------------------------------------------------------\u001B[0m",
      "\u001B[1;31mTypeError\u001B[0m                                 Traceback (most recent call last)",
      "Cell \u001B[1;32mIn[3], line 11\u001B[0m\n\u001B[0;32m      8\u001B[0m                table[i\u001B[38;5;241m.\u001B[39mnumber \u001B[38;5;241m-\u001B[39m \u001B[38;5;241m1\u001B[39m, j\u001B[38;5;241m.\u001B[39mnumber \u001B[38;5;241m-\u001B[39m \u001B[38;5;241m1\u001B[39m] \u001B[38;5;241m=\u001B[39m product\u001B[38;5;241m.\u001B[39mnumber\n\u001B[0;32m      9\u001B[0m        \u001B[38;5;28;01mreturn\u001B[39;00m table\n\u001B[1;32m---> 11\u001B[0m mult  \u001B[38;5;241m=\u001B[39m multiplication_table(D5)\n",
      "Cell \u001B[1;32mIn[3], line 8\u001B[0m, in \u001B[0;36mmultiplication_table\u001B[1;34m(group)\u001B[0m\n\u001B[0;32m      6\u001B[0m     \u001B[38;5;28;01mfor\u001B[39;00m j \u001B[38;5;129;01min\u001B[39;00m group\u001B[38;5;241m.\u001B[39melements:\n\u001B[0;32m      7\u001B[0m         product \u001B[38;5;241m=\u001B[39m group\u001B[38;5;241m.\u001B[39melement_multiply(i, j)\n\u001B[1;32m----> 8\u001B[0m         table[i\u001B[38;5;241m.\u001B[39mnumber \u001B[38;5;241m-\u001B[39m \u001B[38;5;241m1\u001B[39m, j\u001B[38;5;241m.\u001B[39mnumber \u001B[38;5;241m-\u001B[39m \u001B[38;5;241m1\u001B[39m] \u001B[38;5;241m=\u001B[39m product\u001B[38;5;241m.\u001B[39mnumber\n\u001B[0;32m      9\u001B[0m \u001B[38;5;28;01mreturn\u001B[39;00m table\n",
      "\u001B[1;31mTypeError\u001B[0m: unsupported operand type(s) for -: 'list' and 'int'"
     ]
    }
   ],
   "execution_count": 3
  },
  {
   "cell_type": "code",
   "id": "f9d3e2af8013df08",
   "metadata": {
    "collapsed": false,
    "jupyter": {
     "outputs_hidden": false
    },
    "ExecuteTime": {
     "end_time": "2024-11-29T09:46:47.083887Z",
     "start_time": "2024-11-29T09:46:46.779719Z"
    }
   },
   "source": [
    "plt.style.use('classic')\n",
    "\n",
    "fig, ax = plt.subplots()\n",
    "\n",
    "img=ax.imshow(mult, origin='upper', cmap='Blues', interpolation='none')\n",
    "\n",
    "fig.colorbar(img)\n",
    "\n",
    "plt.show()"
   ],
   "outputs": [
    {
     "data": {
      "text/plain": [
       "<Figure size 640x480 with 2 Axes>"
      ],
      "image/png": "[encoded data removed]"
     },
     "metadata": {},
     "output_type": "display_data"
    }
   ],
   "execution_count": 4
  },
  {
   "cell_type": "code",
   "id": "5e8c6588-eaa3-4ff8-a82f-7176ef0d53cc",
   "metadata": {
    "ExecuteTime": {
     "end_time": "2024-11-29T09:46:48.200622Z",
     "start_time": "2024-11-29T09:46:48.197304Z"
    }
   },
   "source": [],
   "outputs": [],
   "execution_count": null
  }
 ],
 "metadata": {
  "kernelspec": {
   "display_name": "Python 3 (ipykernel)",
   "language": "python",
   "name": "python3"
  },
  "language_info": {
   "codemirror_mode": {
    "name": "ipython",
    "version": 3
   },
   "file_extension": ".py",
   "mimetype": "text/x-python",
   "name": "python",
   "nbconvert_exporter": "python",
   "pygments_lexer": "ipython3",
   "version": "3.12.7"
  }
 },
 "nbformat": 4,
 "nbformat_minor": 5
}
