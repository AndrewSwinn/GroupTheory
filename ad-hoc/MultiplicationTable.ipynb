{
 "cells": [
  {
   "cell_type": "code",
   "id": "initial_id",
   "metadata": {
    "ExecuteTime": {
     "end_time": "2025-02-11T13:07:09.364336100Z",
     "start_time": "2025-02-11T13:07:08.659619500Z"
    }
   },
   "source": [
    "from src.Group import Group\n",
    "import matplotlib.pyplot as plt\n",
    "import numpy as np"
   ],
   "outputs": [],
   "execution_count": 1
  },
  {
   "cell_type": "code",
   "id": "cf7dc1d0985d0f37",
   "metadata": {
    "collapsed": false,
    "ExecuteTime": {
     "end_time": "2025-02-11T13:09:42.208080600Z",
     "start_time": "2025-02-11T13:09:42.181643600Z"
    }
   },
   "source": [
    "#D5 = Group(generators={'a': [(1,2,3,4,5,6)], 'b':[(2,6),(3,5)]} )\n",
    "D5 = Group(generators={     'f':[(2,5),(3,4)],       'r': [(1,2,3,4,5)]} )\n",
    "D6 = Group(generators={'r': [(1,2,3,4,5,6)], 'f':[(1,6),(2,5),(3,4)] } )"
   ],
   "outputs": [],
   "execution_count": 7
  },
  {
   "cell_type": "code",
   "id": "65861fd4efe091be",
   "metadata": {
    "collapsed": false,
    "ExecuteTime": {
     "end_time": "2025-02-11T13:09:42.970780700Z",
     "start_time": "2025-02-11T13:09:42.962251400Z"
    }
   },
   "source": [
    " def multiplication_table(group):\n",
    "        order = len(group.elements)\n",
    "        table = np.zeros(shape=(order, order))\n",
    "\n",
    "        for i in group.elements:\n",
    "            for j in group.elements:\n",
    "                product = group.element_multiply(i, j)\n",
    "                table[i.number[0] - 1, j.number[0] - 1] = product.number[0]\n",
    "        return table\n",
    "        \n",
    "mult  = multiplication_table(D6)"
   ],
   "outputs": [],
   "execution_count": 8
  },
  {
   "cell_type": "code",
   "id": "f9d3e2af8013df08",
   "metadata": {
    "collapsed": false,
    "ExecuteTime": {
     "end_time": "2025-02-11T13:09:44.045594800Z",
     "start_time": "2025-02-11T13:09:43.939786500Z"
    }
   },
   "source": [
    "plt.style.use('classic')\n",
    "\n",
    "fig, ax = plt.subplots()\n",
    "\n",
    "img=ax.imshow(mult, origin='upper', cmap='Blues', interpolation='none')\n",
    "\n",
    "fig.colorbar(img)\n",
    "\n",
    "plt.show()"
   ],
   "outputs": [
    {
     "data": {
      "text/plain": "<Figure size 640x480 with 2 Axes>",
      "image/png": "[encoded data removed]"
     },
     "metadata": {},
     "output_type": "display_data"
    }
   ],
   "execution_count": 9
  },
  {
   "cell_type": "code",
   "id": "5e8c6588-eaa3-4ff8-a82f-7176ef0d53cc",
   "metadata": {
    "ExecuteTime": {
     "end_time": "2025-02-11T13:09:51.744081200Z",
     "start_time": "2025-02-11T13:09:51.733915400Z"
    }
   },
   "source": [
    "for element in D6.elements:\n",
    "    print(element)"
   ],
   "outputs": [
    {
     "name": "stdout",
     "output_type": "stream",
     "text": [
      "['e']\t[1]\t[(1, 2, 3, 4, 5, 6)]\n",
      "['f']\t[2]\t[(6, 5, 4, 3, 2, 1)]\n",
      "['fr']\t[3]\t[(5, 4, 3, 2, 1, 6)]\n",
      "['frf']\t[4]\t[(2, 3, 4, 5, 6, 1)]\n",
      "['frr']\t[5]\t[(4, 3, 2, 1, 6, 5)]\n",
      "['frrf']\t[6]\t[(3, 4, 5, 6, 1, 2)]\n",
      "['frrr']\t[7]\t[(3, 2, 1, 6, 5, 4)]\n",
      "['r']\t[8]\t[(6, 1, 2, 3, 4, 5)]\n",
      "['rf']\t[9]\t[(1, 6, 5, 4, 3, 2)]\n",
      "['rr']\t[10]\t[(5, 6, 1, 2, 3, 4)]\n",
      "['rrf']\t[11]\t[(2, 1, 6, 5, 4, 3)]\n",
      "['rrr']\t[12]\t[(4, 5, 6, 1, 2, 3)]\n",
      "['rrrf']\t[13]\t[(3, 2, 1, 6, 5, 4)]\n",
      "['rrrr']\t[14]\t[(3, 4, 5, 6, 1, 2)]\n"
     ]
    }
   ],
   "execution_count": 10
  },
  {
   "cell_type": "code",
   "execution_count": 5,
   "outputs": [],
   "source": [],
   "metadata": {
    "collapsed": false,
    "ExecuteTime": {
     "end_time": "2025-01-26T19:36:18.145799300Z",
     "start_time": "2025-01-26T19:36:18.140788Z"
    }
   },
   "id": "53d9ad4106f257d9"
  }
 ],
 "metadata": {
  "kernelspec": {
   "display_name": "Python 3 (ipykernel)",
   "language": "python",
   "name": "python3"
  },
  "language_info": {
   "codemirror_mode": {
    "name": "ipython",
    "version": 3
   },
   "file_extension": ".py",
   "mimetype": "text/x-python",
   "name": "python",
   "nbconvert_exporter": "python",
   "pygments_lexer": "ipython3",
   "version": "3.12.7"
  }
 },
 "nbformat": 4,
 "nbformat_minor": 5
}
