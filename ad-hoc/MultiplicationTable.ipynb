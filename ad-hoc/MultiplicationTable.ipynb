{
 "cells": [
  {
   "cell_type": "code",
   "execution_count": 2,
   "id": "initial_id",
   "metadata": {
    "collapsed": true,
    "ExecuteTime": {
     "end_time": "2024-11-26T21:58:42.929040300Z",
     "start_time": "2024-11-26T21:58:41.960065300Z"
    }
   },
   "outputs": [],
   "source": [
    "from src.Group import Group\n",
    "import matplotlib.pyplot as plt\n",
    "import numpy as np"
   ]
  },
  {
   "cell_type": "code",
   "execution_count": 7,
   "outputs": [
    {
     "name": "stdout",
     "output_type": "stream",
     "text": [
      "e 1\n",
      "a 2\n",
      "aa 3\n",
      "aaa 4\n",
      "aaaa 5\n",
      "aab 6\n",
      "ab 7\n",
      "b 8\n",
      "ba 9\n",
      "baa 10\n",
      "baaa 11\n",
      "bab 12\n"
     ]
    }
   ],
   "source": [
    "g = Group(generators={'a': [(1,2,3,4,5,6)], 'b':[(2,6),(3,5)]} )\n",
    "for element in g.elements:\n",
    "    print(element.name, element.number)"
   ],
   "metadata": {
    "collapsed": false,
    "ExecuteTime": {
     "end_time": "2024-11-26T22:00:31.519867200Z",
     "start_time": "2024-11-26T22:00:31.487180800Z"
    }
   },
   "id": "cf7dc1d0985d0f37"
  },
  {
   "cell_type": "code",
   "execution_count": 23,
   "outputs": [],
   "source": [
    "def multiplication_table(rows, columns):\n",
    "    table = np.zeros(shape=(len(rows),len(columns)))\n",
    "    for i in rows:\n",
    "        for j in columns:\n",
    "            element_k = g.element_multiply(i,j)\n",
    "            table[i.number-1, j.number-1] = element_k.number-1\n",
    "      #      for test_id, test_element in enumerate(g.elements):\n",
    "      #          if element_k == test_element:\n",
    "      #              table[i,j]=test_id\n",
    "    return table\n",
    "        \n",
    "mult  = multiplication_table(g.elements, g.elements)"
   ],
   "metadata": {
    "collapsed": false,
    "ExecuteTime": {
     "end_time": "2024-11-26T22:05:55.142495500Z",
     "start_time": "2024-11-26T22:05:55.128418900Z"
    }
   },
   "id": "65861fd4efe091be"
  },
  {
   "cell_type": "code",
   "execution_count": 24,
   "outputs": [
    {
     "data": {
      "text/plain": "array([[ 0.,  1.,  2.,  3.,  4.,  5.,  6.,  7.,  8.,  9., 10., 11.],\n       [ 1.,  2.,  3.,  4., 11.,  6.,  7.,  8.,  9., 10.,  5.,  0.],\n       [ 2.,  3.,  4., 11.,  0.,  7.,  8.,  9., 10.,  5.,  6.,  1.],\n       [ 3.,  4., 11.,  0.,  1.,  8.,  9., 10.,  5.,  6.,  7.,  2.],\n       [ 4., 11.,  0.,  1.,  2.,  9., 10.,  5.,  6.,  7.,  8.,  3.],\n       [ 5., 10.,  9.,  8.,  7.,  0., 11.,  4.,  3.,  2.,  1.,  6.],\n       [ 6.,  5., 10.,  9.,  8.,  1.,  0., 11.,  4.,  3.,  2.,  7.],\n       [ 7.,  6.,  5., 10.,  9.,  2.,  1.,  0., 11.,  4.,  3.,  8.],\n       [ 8.,  7.,  6.,  5., 10.,  3.,  2.,  1.,  0., 11.,  4.,  9.],\n       [ 9.,  8.,  7.,  6.,  5.,  4.,  3.,  2.,  1.,  0., 11., 10.],\n       [10.,  9.,  8.,  7.,  6., 11.,  4.,  3.,  2.,  1.,  0.,  5.],\n       [11.,  0.,  1.,  2.,  3., 10.,  5.,  6.,  7.,  8.,  9.,  4.]])"
     },
     "execution_count": 24,
     "metadata": {},
     "output_type": "execute_result"
    }
   ],
   "source": [
    "mult"
   ],
   "metadata": {
    "collapsed": false,
    "ExecuteTime": {
     "end_time": "2024-11-26T22:05:56.343761500Z",
     "start_time": "2024-11-26T22:05:56.321708900Z"
    }
   },
   "id": "2bb9f1e0214724d5"
  },
  {
   "cell_type": "code",
   "execution_count": 25,
   "outputs": [
    {
     "data": {
      "text/plain": "<Figure size 200x200 with 1 Axes>",
      "image/png": "[encoded data removed]"
     },
     "metadata": {},
     "output_type": "display_data"
    }
   ],
   "source": [
    "plt.style.use('_mpl-gallery-nogrid')\n",
    "\n",
    "# make data\n",
    "Z    = multiplication_table(g.elements, g.elements)\n",
    "\n",
    "# plot\n",
    "fig, ax = plt.subplots()\n",
    "\n",
    "ax.imshow(Z, origin='lower')\n",
    "\n",
    "plt.show()"
   ],
   "metadata": {
    "collapsed": false,
    "ExecuteTime": {
     "end_time": "2024-11-26T22:06:00.612078800Z",
     "start_time": "2024-11-26T22:06:00.499580600Z"
    }
   },
   "id": "f9d3e2af8013df08"
  },
  {
   "cell_type": "code",
   "execution_count": null,
   "outputs": [],
   "source": [
    "Y"
   ],
   "metadata": {
    "collapsed": false,
    "ExecuteTime": {
     "start_time": "2024-11-24T17:02:31.617693400Z"
    }
   },
   "id": "42581ae47fd91133"
  },
  {
   "cell_type": "code",
   "execution_count": null,
   "outputs": [],
   "source": [
    "elements"
   ],
   "metadata": {
    "collapsed": false,
    "ExecuteTime": {
     "start_time": "2024-11-24T17:02:31.619708100Z"
    }
   },
   "id": "ef599d2b7053af68"
  },
  {
   "cell_type": "code",
   "execution_count": null,
   "outputs": [],
   "source": [],
   "metadata": {
    "collapsed": false,
    "ExecuteTime": {
     "start_time": "2024-11-24T17:02:31.619708100Z"
    }
   },
   "id": "424e1c1af0c5cee4"
  }
 ],
 "metadata": {
  "kernelspec": {
   "display_name": "Python 3",
   "language": "python",
   "name": "python3"
  },
  "language_info": {
   "codemirror_mode": {
    "name": "ipython",
    "version": 2
   },
   "file_extension": ".py",
   "mimetype": "text/x-python",
   "name": "python",
   "nbconvert_exporter": "python",
   "pygments_lexer": "ipython2",
   "version": "2.7.6"
  }
 },
 "nbformat": 4,
 "nbformat_minor": 5
}
