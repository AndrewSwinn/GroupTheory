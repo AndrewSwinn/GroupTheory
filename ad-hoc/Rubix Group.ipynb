{
 "cells": [
  {
   "cell_type": "code",
   "id": "initial_id",
   "metadata": {
    "collapsed": true,
    "ExecuteTime": {
     "end_time": "2024-10-15T12:28:46.865489Z",
     "start_time": "2024-10-15T12:28:46.861294Z"
    }
   },
   "source": [
    "def flip(cubie):\n",
    "    return cubie ^ 0x80 \n",
    "\n",
    "edges   = [0x01, 0x02, 0x03, 0x04, 0x05, 0x06, 0x07, 0x08, 0x09, 0x0A, 0x0B, 0x0C]\n",
    "corners = [0x01, 0x02, 0x03, 0x04, 0x05, 0x06, 0x07, 0x08]\n",
    "cube    = [edges, corners]"
   ],
   "outputs": [],
   "execution_count": 4
  },
  {
   "metadata": {
    "ExecuteTime": {
     "end_time": "2024-10-15T13:25:44.533698Z",
     "start_time": "2024-10-15T13:25:44.530956Z"
    }
   },
   "cell_type": "code",
   "source": [
    "# Define base permutations (clockwise quarter turns in each face - cubies numbered from 1\n",
    "moves = {'R': [1,2,7,8,5,6,4,3,9,10,11,12],\n",
    "         'L': [5,6,3,4,2,1,7,8,9,10,11,12],\n",
    "         'F': [1,2,3,4,5,10,9,8,6,7,11,12],\n",
    "         'B': [1,2,3,4,12,6,7,11,9,10,5,8],\n",
    "         'U': [flip(9),2,flip(12),4,5,6,7,8,flip(3),10,11,flip(1)],\n",
    "         'D': [1,flip(11),3,flip(10),5,6,7,8,9,flip(2),flip(4),12]\n",
    "         }\n",
    "\n",
    "members = {'': edges}"
   ],
   "id": "dad10bc59f4cb4a6",
   "outputs": [],
   "execution_count": 33
  },
  {
   "metadata": {
    "ExecuteTime": {
     "end_time": "2024-10-15T13:28:17.482992Z",
     "start_time": "2024-10-15T13:28:17.478726Z"
    }
   },
   "cell_type": "code",
   "source": [
    "for name, edges in members.items():\n",
    "   \n",
    "    new_members = {name + n: [ edges[0x0F & (edge-1)] ^ (edge & 0xF0)   for edge in move  ] for n, move in moves.items()} \n",
    "    \n",
    "# add new members toi members, and repeat until no new additions.\n",
    "    \n",
    "\n",
    "\n",
    "    "
   ],
   "id": "b0e7c5a4c797a917",
   "outputs": [],
   "execution_count": 40
  },
  {
   "metadata": {
    "ExecuteTime": {
     "end_time": "2024-10-15T13:28:18.437432Z",
     "start_time": "2024-10-15T13:28:18.431680Z"
    }
   },
   "cell_type": "code",
   "source": "new_members",
   "id": "82d98307751bd3d9",
   "outputs": [
    {
     "data": {
      "text/plain": [
       "{'R': [1, 2, 7, 8, 5, 6, 4, 3, 9, 10, 11, 12],\n",
       " 'L': [5, 6, 3, 4, 2, 1, 7, 8, 9, 10, 11, 12],\n",
       " 'F': [1, 2, 3, 4, 5, 10, 9, 8, 6, 7, 11, 12],\n",
       " 'B': [1, 2, 3, 4, 12, 6, 7, 11, 9, 10, 5, 8],\n",
       " 'U': [137, 2, 140, 4, 5, 6, 7, 8, 131, 10, 11, 129],\n",
       " 'D': [1, 139, 3, 138, 5, 6, 7, 8, 9, 130, 132, 12]}"
      ]
     },
     "execution_count": 41,
     "metadata": {},
     "output_type": "execute_result"
    }
   ],
   "execution_count": 41
  },
  {
   "metadata": {},
   "cell_type": "code",
   "outputs": [],
   "execution_count": null,
   "source": "",
   "id": "980e5f41b214a97c"
  }
 ],
 "metadata": {
  "kernelspec": {
   "display_name": "Python 3",
   "language": "python",
   "name": "python3"
  },
  "language_info": {
   "codemirror_mode": {
    "name": "ipython",
    "version": 2
   },
   "file_extension": ".py",
   "mimetype": "text/x-python",
   "name": "python",
   "nbconvert_exporter": "python",
   "pygments_lexer": "ipython2",
   "version": "2.7.6"
  }
 },
 "nbformat": 4,
 "nbformat_minor": 5
}
