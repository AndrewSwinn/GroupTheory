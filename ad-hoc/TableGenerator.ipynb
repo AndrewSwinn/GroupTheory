{
 "cells": [
  {
   "cell_type": "code",
   "source": [
    "import os\n",
    "import pickle\n",
    "\n",
    "# edges are encoded at 8 bit bytes. The first bit encodes flipped or not. The last 4 bits encode slice (0, 1, 2) and number within the slice (0, 1, 2, 3)\n",
    "\n",
    "edges   = [0x10, 0x11, 0x12, 0x13, 0x04, 0x05, 0x06, 0x07, 0x08, 0x09, 0x0A, 0x0B]\n",
    "corners = [0x00, 0x01, 0x02, 0x03, 0x04, 0x05, 0x06, 0x07]\n",
    "parity  = [0x00]\n",
    "cube    = bytes(edges + corners + parity)\n"
   ],
   "metadata": {
    "collapsed": false,
    "ExecuteTime": {
     "end_time": "2024-10-23T06:11:17.711845Z",
     "start_time": "2024-10-23T06:11:17.708097Z"
    }
   },
   "id": "initial_id",
   "outputs": [],
   "execution_count": 1
  },
  {
   "metadata": {
    "ExecuteTime": {
     "end_time": "2024-10-23T06:11:17.749368Z",
     "start_time": "2024-10-23T06:11:17.746370Z"
    }
   },
   "cell_type": "code",
   "source": [
    "def generate_new(members, generators, subgroup_mask):\n",
    "    \n",
    "    members_list = set([bytes([membercube[i] & subgroup_mask[i] for i in range(0,21)]) for membercube in members.values()])\n",
    "\n",
    "    candidates, new_members = dict(), dict()\n",
    "    \n",
    "    for name, membercube in members.items():\n",
    "        for n, generator in generators.items():           \n",
    "            new_name  = name + n\n",
    "            new_twist_array = ([membercube[0x0F & generator[i]] ^ (generator[i] & 0xF0)  for i in range(0,12)] +\n",
    "                              [(membercube[12 + (0x0F & generator[j])] & 0x0F) + (((membercube[12 + (0x0F & generator[j])] & 0xF0) + (generator[j] & 0xF0))%0xC0) for j in range(12, 20)] + \n",
    "                              [cube[20] ^ generator[20] ])\n",
    "            new_twist = bytes(new_twist_array)\n",
    "            \n",
    "            twist_masked = bytes([new_twist[i] & subgroup_mask[i] for i in range(0,21)]) \n",
    "            \n",
    "            if twist_masked not in members_list:\n",
    "                new_members[new_name] = new_twist\n",
    "                members_list.add(twist_masked)         \n",
    "   \n",
    "    return new_members\n",
    "    \n",
    "    "
   ],
   "id": "28c1e6d473197a42",
   "outputs": [],
   "execution_count": 2
  },
  {
   "metadata": {
    "ExecuteTime": {
     "end_time": "2024-10-23T06:11:17.759035Z",
     "start_time": "2024-10-23T06:11:17.756306Z"
    }
   },
   "cell_type": "code",
   "source": [
    "            ## Define base permutations \n",
    "moves = {   'R' :bytes(b'\\x00\\x01\\x06\\x07\\x04\\x05\\x03\\x02\\x08\\t\\n\\x0b\\x00\\x01\\x07\\x06\\x04\\x05\\x02\\x03\\x80'),\n",
    "            'L' :bytes(b'\\x04\\x05\\x02\\x03\\x01\\x00\\x06\\x07\\x08\\t\\n\\x0b\\x05\\x04\\x02\\x03\\x00\\x01\\x06\\x07\\x80'),\n",
    "            'F' :bytes(b'\\x00\\x01\\x02\\x03\\x04\\t\\x08\\x07\\x05\\x06\\n\\x0b\\x00\\x86\\x02\\x84A\\x05C\\x07\\x80'),\n",
    "            'B' :bytes(b'\\x00\\x01\\x02\\x03\\x0b\\x05\\x06\\n\\x08\\t\\x04\\x07\\x87\\x01\\x85\\x03\\x04@\\x06B\\x80'),\n",
    "            'U' :bytes(b'\\x88\\x01\\x8b\\x03\\x04\\x05\\x06\\x07\\x82\\t\\n\\x80D\\x01\\x02G\\x83\\x05\\x06\\x80\\x80'),\n",
    "            'D' :bytes(b'\\x00\\x8a\\x02\\x89\\x04\\x05\\x06\\x07\\x08\\x81\\x83\\x0b\\x00EF\\x03\\x04\\x82\\x81\\x07\\x80'),            \n",
    "            'S' :bytes(b'\\x00\\x01\\x03\\x02\\x04\\x05\\x07\\x06\\x08\\t\\n\\x0b\\x00\\x01\\x03\\x02\\x04\\x05\\x07\\x06\\x00'),   \n",
    "            'M' :bytes(b'\\x01\\x00\\x02\\x03\\x05\\x04\\x06\\x07\\x08\\t\\n\\x0b\\x01\\x00\\x02\\x03\\x05\\x04\\x06\\x07\\x00'),\n",
    "            'G' :bytes(b'\\x00\\x01\\x02\\x03\\x04\\x06\\x05\\x07\\t\\x08\\n\\x0b\\x00\\x03\\x02\\x01\\x06\\x05\\x04\\x07\\x00'),\n",
    "            'C' :bytes(b'\\x00\\x01\\x02\\x03\\x07\\x05\\x06\\x04\\x08\\t\\x0b\\n\\x02\\x01\\x00\\x03\\x04\\x07\\x06\\x05\\x00'),\n",
    "            'V' :bytes(b'\\x02\\x01\\x00\\x03\\x04\\x05\\x06\\x07\\x0b\\t\\n\\x08\\x03\\x01\\x02\\x00\\x07\\x05\\x06\\x04\\x00'),\n",
    "            'E' :bytes(b'\\x00\\x03\\x02\\x01\\x04\\x05\\x06\\x07\\x08\\n\\t\\x0b\\x00\\x02\\x01\\x03\\x04\\x06\\x05\\x07\\x00'),\n",
    "            'r' :bytes(b'\\x00\\x01\\x07\\x06\\x04\\x05\\x02\\x03\\x08\\t\\n\\x0b\\x00\\x01\\x06\\x07\\x04\\x05\\x03\\x02\\x80'),\n",
    "            'l' :bytes(b'\\x05\\x04\\x02\\x03\\x00\\x01\\x06\\x07\\x08\\t\\n\\x0b\\x04\\x05\\x02\\x03\\x01\\x00\\x06\\x07\\x80'),\n",
    "            'f' :bytes(b'\\x00\\x01\\x02\\x03\\x04\\x08\\t\\x07\\x06\\x05\\n\\x0b\\x00\\x84\\x02\\x86C\\x05A\\x07\\x80'),\n",
    "            'b' :bytes(b'\\x00\\x01\\x02\\x03\\n\\x05\\x06\\x0b\\x08\\t\\x07\\x04\\x85\\x01\\x87\\x03\\x04B\\x06@\\x80'),\n",
    "            'u' :bytes(b'\\x8b\\x01\\x88\\x03\\x04\\x05\\x06\\x07\\x80\\t\\n\\x82G\\x01\\x02D\\x80\\x05\\x06\\x83\\x80'),\n",
    "            'd' :bytes(b'\\x00\\x89\\x02\\x8a\\x04\\x05\\x06\\x07\\x08\\x83\\x81\\x0b\\x00FE\\x03\\x04\\x81\\x82\\x07\\x80')\n",
    "}\n",
    "\n",
    "\n",
    "\n"
   ],
   "id": "dad10bc59f4cb4a6",
   "outputs": [],
   "execution_count": 3
  },
  {
   "metadata": {
    "ExecuteTime": {
     "end_time": "2024-10-23T06:16:10.860946Z",
     "start_time": "2024-10-23T06:11:17.763889Z"
    }
   },
   "cell_type": "code",
   "source": [
    "group_moves = ['RLFBUDrlfbudSMGCVE',  'RLFBrlfbSMGCVE', 'RLrlSMGCVE', 'SMGCVE' ]\n",
    "group_masks = [[[0x80], [0x00], [0x00]], [[0x10], [0xC0], [0x00]], [[0x0C], [0x06], [0x8F]], [[0x0FF], [0xFF], [0x00]]]\n",
    "\n",
    "thistle_tables = []\n",
    "\n",
    "for group in range(0,4):\n",
    "    move_dict = {move_key: moves[move_key] for move_key in group_moves[group]}\n",
    "    bit_mask  = bytes(group_masks[group][0] * 12 + group_masks[group][1] * 8 + group_masks[group][2])\n",
    "    new, members = 1, {'': cube}\n",
    "    while new > 0 :\n",
    "        new_members = generate_new(members, move_dict, bit_mask)\n",
    "        new = len(new_members)\n",
    "        members.update(new_members)\n",
    "    print(group, len(members))\n",
    "    thistle_tables.append(members)\n",
    "   "
   ],
   "id": "fbf10066dfd7fc16",
   "outputs": [
    {
     "name": "stdout",
     "output_type": "stream",
     "text": [
      "0 2048\n",
      "1 1082565\n",
      "2 352800\n",
      "3 663552\n"
     ]
    }
   ],
   "execution_count": 4
  },
  {
   "metadata": {
    "ExecuteTime": {
     "end_time": "2024-10-23T06:16:11.916008Z",
     "start_time": "2024-10-23T06:16:11.182928Z"
    }
   },
   "cell_type": "code",
   "source": [
    "with open('thistle_tables.dat', 'wb') as file:\n",
    "    pickle.dump(thistle_tables, file)"
   ],
   "id": "4516f6389add2952",
   "outputs": [],
   "execution_count": 5
  },
  {
   "cell_type": "code",
   "source": [],
   "metadata": {
    "collapsed": false,
    "ExecuteTime": {
     "end_time": "2024-10-23T06:16:12.009722Z",
     "start_time": "2024-10-23T06:16:12.008560Z"
    }
   },
   "id": "9f08fe7c81e40386",
   "outputs": [],
   "execution_count": null
  }
 ],
 "metadata": {
  "kernelspec": {
   "display_name": "Python 3",
   "language": "python",
   "name": "python3"
  },
  "language_info": {
   "codemirror_mode": {
    "name": "ipython",
    "version": 2
   },
   "file_extension": ".py",
   "mimetype": "text/x-python",
   "name": "python",
   "nbconvert_exporter": "python",
   "pygments_lexer": "ipython2",
   "version": "2.7.6"
  }
 },
 "nbformat": 4,
 "nbformat_minor": 5
}
