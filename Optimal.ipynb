{
 "cells": [
  {
   "cell_type": "code",
   "id": "initial_id",
   "metadata": {
    "ExecuteTime": {
     "end_time": "2024-11-15T16:07:43.825733Z",
     "start_time": "2024-11-15T16:07:43.275198Z"
    }
   },
   "source": [
    "import random\n",
    "import datetime\n",
    "from src.ThistleCube import ThistleCube"
   ],
   "outputs": [],
   "execution_count": 1
  },
  {
   "cell_type": "code",
   "id": "c58ab4d71cf549fb",
   "metadata": {
    "ExecuteTime": {
     "end_time": "2024-11-15T16:07:43.835075Z",
     "start_time": "2024-11-15T16:07:43.831823Z"
    }
   },
   "source": [
    "identity = ThistleCube()\n",
    "moves = [move for move in identity.moves_dict.keys()]\n",
    "moves = moves\n",
    "print(moves)"
   ],
   "outputs": [
    {
     "name": "stdout",
     "output_type": "stream",
     "text": [
      "['R', 'L', 'F', 'B', 'U', 'D', 'S', 'M', 'G', 'C', 'V', 'E', 'r', 'l', 'f', 'b', 'u', 'd']\n"
     ]
    }
   ],
   "execution_count": 2
  },
  {
   "cell_type": "code",
   "id": "8a9350415639e84c",
   "metadata": {
    "ExecuteTime": {
     "end_time": "2024-11-15T16:08:05.406216Z",
     "start_time": "2024-11-15T16:08:05.399486Z"
    }
   },
   "source": [
    "for i in range(10):\n",
    "    scramble = ''\n",
    "    for i in range(40):\n",
    "        scramble+=random.choice(moves)\n",
    "    c = ThistleCube()\n",
    "    c.move_cube(scramble)\n",
    "    current= datetime.datetime.now()\n",
    "    optimal, nodes = c.optimal()\n",
    "    elapsed = datetime.datetime.now() - current\n",
    "    print(scramble, optimal, nodes, elapsed)    \n",
    "    "
   ],
   "outputs": [
    {
     "name": "stdout",
     "output_type": "stream",
     "text": [
      "VDBdrCFFSlfCSRDUGMBMBMSGSuDBBMdFGlMLMElD   1 0:00:00.000036\n",
      "rCGEMGDbVuSbMdlSuUERLdCRVRFEBbrVCdEVDGdV   1 0:00:00.000014\n",
      "DfMUdFuVdblGEVRDBVVbGrbdGFLRGDDCBFDfMdLE   1 0:00:00.000010\n",
      "rGFRRbduRFuRduLufDdldDlduDrSVRfSGlDdblLl   1 0:00:00.000010\n",
      "rSBLDCfVfBRlMDMuVFuGEbfFVRlbUdLFdfSVBRff   1 0:00:00.000036\n",
      "ESUuUDrVfBrGMdVFMEBEFrSEGGFlCfUSFLGSldCR   1 0:00:00.000014\n",
      "ElUSEGlrbSDEDUfGDSrSfMEubRubddRGdDfFflMV   1 0:00:00.000010\n",
      "uEErrUbRuFdDCrdULuFUlbDCdSrRRduRlCCuGdEG   1 0:00:00.000010\n",
      "bCBfCBdRMMuUGudSFUUdMlGCbCGMBGGbDublbrbB   1 0:00:00.000009\n",
      "GRMMVrbDMDbluBfEUdRllfCDMFlBfREFRSBMLlUD   1 0:00:00.000012\n"
     ]
    }
   ],
   "execution_count": 4
  },
  {
   "metadata": {
    "ExecuteTime": {
     "end_time": "2024-11-15T16:07:43.980152Z",
     "start_time": "2024-11-15T16:07:43.977797Z"
    }
   },
   "cell_type": "code",
   "source": "",
   "id": "d282cf6c60a65f48",
   "outputs": [],
   "execution_count": null
  }
 ],
 "metadata": {
  "kernelspec": {
   "display_name": "Python 3 (ipykernel)",
   "language": "python",
   "name": "python3"
  },
  "language_info": {
   "codemirror_mode": {
    "name": "ipython",
    "version": 3
   },
   "file_extension": ".py",
   "mimetype": "text/x-python",
   "name": "python",
   "nbconvert_exporter": "python",
   "pygments_lexer": "ipython3",
   "version": "3.12.7"
  }
 },
 "nbformat": 4,
 "nbformat_minor": 5
}
