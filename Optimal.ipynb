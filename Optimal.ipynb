{
 "cells": [
  {
   "cell_type": "code",
   "execution_count": 1,
   "id": "initial_id",
   "metadata": {
    "ExecuteTime": {
     "end_time": "2024-11-06T20:02:05.934933Z",
     "start_time": "2024-11-06T20:02:05.931574Z"
    }
   },
   "outputs": [],
   "source": [
    "import random\n",
    "from queue import PriorityQueue\n",
    "from src.ThistleCube import ThistleCube"
   ]
  },
  {
   "cell_type": "code",
   "execution_count": 2,
   "id": "c58ab4d71cf549fb",
   "metadata": {
    "ExecuteTime": {
     "end_time": "2024-11-06T20:02:06.600387Z",
     "start_time": "2024-11-06T20:02:06.597246Z"
    }
   },
   "outputs": [
    {
     "name": "stdout",
     "output_type": "stream",
     "text": [
      "['R', 'L', 'F', 'B', 'U', 'D', 'S', 'M', 'G', 'C', 'V', 'E', 'r', 'l', 'f', 'b', 'u', 'd']\n"
     ]
    }
   ],
   "source": [
    "identity = ThistleCube()\n",
    "moves = [move for move in identity.moves_dict.keys()]\n",
    "print(moves)"
   ]
  },
  {
   "cell_type": "code",
   "execution_count": 3,
   "id": "8a9350415639e84c",
   "metadata": {
    "ExecuteTime": {
     "end_time": "2024-11-06T20:02:06.935381Z",
     "start_time": "2024-11-06T20:02:06.931862Z"
    }
   },
   "outputs": [],
   "source": [
    "scramble = ''\n",
    "for i in range(20):\n",
    "    scramble+=random.choice(moves)"
   ]
  },
  {
   "cell_type": "code",
   "execution_count": 4,
   "id": "40a46e0434768a40",
   "metadata": {
    "ExecuteTime": {
     "end_time": "2024-11-06T20:02:07.340728Z",
     "start_time": "2024-11-06T20:02:07.337826Z"
    }
   },
   "outputs": [],
   "source": [
    "c = ThistleCube()\n",
    "c.move_cube(scramble)"
   ]
  },
  {
   "cell_type": "code",
   "execution_count": 5,
   "id": "70579b7d37a20e9f",
   "metadata": {
    "ExecuteTime": {
     "end_time": "2024-11-06T20:02:08.205298Z",
     "start_time": "2024-11-06T20:02:08.201913Z"
    }
   },
   "outputs": [
    {
     "name": "stdout",
     "output_type": "stream",
     "text": [
      " 10 *8 *11  9  0  6  7 *3 *5 *1 *2  4 C0 C4 C7  1  2 A6 A3 A5  0  YG WB WG YB WR OB OG WO RB YR OY RG \n"
     ]
    }
   ],
   "source": [
    "print(c)"
   ]
  },
  {
   "cell_type": "code",
   "execution_count": 6,
   "id": "c1ab1f06-e3ca-43d0-bcde-5f900a1b6b46",
   "metadata": {},
   "outputs": [],
   "source": [
    "def heur(cube):\n",
    "    estimate = 0\n",
    "    for i in range(12):\n",
    "        if cube.cube[i] != i:\n",
    "            estimate+=1 + (cube.cube[i]>12)\n",
    "    for i in range(8):\n",
    "        if cube.cube[12 + i] != i:\n",
    "            estimate+=1 + (cube.cube[12 + i]>8)\n",
    "        \n",
    "    return estimate"
   ]
  },
  {
   "cell_type": "code",
   "execution_count": 7,
   "id": "400e1ba30f308c96",
   "metadata": {
    "ExecuteTime": {
     "end_time": "2024-11-06T20:02:09.797564Z",
     "start_time": "2024-11-06T20:02:09.794519Z"
    }
   },
   "outputs": [],
   "source": [
    "q = PriorityQueue()\n",
    "q.put((0, [' ',c]))\n"
   ]
  },
  {
   "cell_type": "code",
   "execution_count": 8,
   "id": "3af3117e73c544b5",
   "metadata": {
    "ExecuteTime": {
     "end_time": "2024-11-06T20:03:33.887227Z",
     "start_time": "2024-11-06T20:03:15.968810Z"
    }
   },
   "outputs": [],
   "source": [
    "def search():\n",
    "    while not q.empty():\n",
    "        (_, [path, cube]) = q.get()\n",
    "        if heur(cube) == 0:\n",
    "            return path\n",
    "        else:\n",
    "            for move in moves:\n",
    "                new_cube  = ThistleCube(cube)\n",
    "                new_cube.move_cube(move)\n",
    "                new_path  = path + move\n",
    "                q.put(((len(new_path) + heur(new_cube)), [new_path, new_cube]))"
   ]
  },
  {
   "cell_type": "code",
   "execution_count": null,
   "id": "6e5687ddfc6f77c0",
   "metadata": {},
   "outputs": [],
   "source": [
    "solution = search()\n"
   ]
  },
  {
   "cell_type": "code",
   "execution_count": null,
   "id": "f258db84-2d7c-4b48-aa50-6cd054982618",
   "metadata": {},
   "outputs": [],
   "source": [
    "c.move_cube(solution)\n",
    "print(c)"
   ]
  },
  {
   "cell_type": "code",
   "execution_count": null,
   "id": "9fdafec4-fa21-4f09-bca0-4f581aa81f5b",
   "metadata": {},
   "outputs": [],
   "source": [
    "print(scramble + solution)"
   ]
  },
  {
   "cell_type": "code",
   "execution_count": null,
   "id": "6c5b9e23-3c77-4d0a-9a98-eb6bdb603280",
   "metadata": {},
   "outputs": [],
   "source": []
  }
 ],
 "metadata": {
  "kernelspec": {
   "display_name": "Python 3 (ipykernel)",
   "language": "python",
   "name": "python3"
  },
  "language_info": {
   "codemirror_mode": {
    "name": "ipython",
    "version": 3
   },
   "file_extension": ".py",
   "mimetype": "text/x-python",
   "name": "python",
   "nbconvert_exporter": "python",
   "pygments_lexer": "ipython3",
   "version": "3.12.7"
  }
 },
 "nbformat": 4,
 "nbformat_minor": 5
}
