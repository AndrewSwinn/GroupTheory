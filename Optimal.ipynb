{
 "cells": [
  {
   "cell_type": "code",
   "id": "initial_id",
   "metadata": {
    "ExecuteTime": {
     "end_time": "2024-11-07T15:00:43.123385Z",
     "start_time": "2024-11-07T15:00:42.042912Z"
    }
   },
   "source": [
    "import random\n",
    "from queue import PriorityQueue\n",
    "from src.ThistleCube import ThistleCube"
   ],
   "outputs": [],
   "execution_count": 1
  },
  {
   "cell_type": "code",
   "id": "c58ab4d71cf549fb",
   "metadata": {
    "ExecuteTime": {
     "end_time": "2024-11-07T15:00:43.135759Z",
     "start_time": "2024-11-07T15:00:43.123385Z"
    }
   },
   "source": [
    "identity = ThistleCube()\n",
    "moves = [move for move in identity.moves_dict.keys()]\n",
    "moves = moves\n",
    "print(moves)"
   ],
   "outputs": [
    {
     "name": "stdout",
     "output_type": "stream",
     "text": [
      "['R', 'L', 'F', 'B', 'U', 'D', 'S', 'M', 'G', 'C', 'V', 'E', 'r', 'l', 'f', 'b', 'u', 'd']\n"
     ]
    }
   ],
   "execution_count": 2
  },
  {
   "cell_type": "code",
   "id": "8a9350415639e84c",
   "metadata": {
    "ExecuteTime": {
     "end_time": "2024-11-07T15:00:44.163263Z",
     "start_time": "2024-11-07T15:00:44.157785Z"
    }
   },
   "source": [
    "scramble = ''\n",
    "for i in range(20):\n",
    "    scramble+=random.choice(moves)"
   ],
   "outputs": [],
   "execution_count": 3
  },
  {
   "cell_type": "code",
   "id": "40a46e0434768a40",
   "metadata": {
    "ExecuteTime": {
     "end_time": "2024-11-07T15:00:44.819375Z",
     "start_time": "2024-11-07T15:00:44.807839Z"
    }
   },
   "source": [
    "c = ThistleCube()\n",
    "c.move_cube(scramble)"
   ],
   "outputs": [],
   "execution_count": 4
  },
  {
   "cell_type": "code",
   "id": "70579b7d37a20e9f",
   "metadata": {
    "ExecuteTime": {
     "end_time": "2024-11-07T15:00:46.005860Z",
     "start_time": "2024-11-07T15:00:45.995911Z"
    }
   },
   "source": [
    "print(c)"
   ],
   "outputs": [
    {
     "name": "stdout",
     "output_type": "stream",
     "text": [
      "*8 *7 *9 *6  5 *2  10 *3 *1 *0  4  11 A5  4 A0 C2 C6 C3 A7  1  0  WB OG YB OB RB OY YG WO YR WR RG WG \n"
     ]
    }
   ],
   "execution_count": 5
  },
  {
   "metadata": {
    "ExecuteTime": {
     "end_time": "2024-11-07T15:05:01.299939Z",
     "start_time": "2024-11-07T15:00:49.640019Z"
    }
   },
   "cell_type": "code",
   "source": "print(c.optimal())",
   "id": "42820e481ad36fc7",
   "outputs": [
    {
     "name": "stdout",
     "output_type": "stream",
     "text": [
      "(' FuFbdfuFURRLLBLL', 2695010)\n"
     ]
    }
   ],
   "execution_count": 6
  },
  {
   "cell_type": "code",
   "id": "c1ab1f06-e3ca-43d0-bcde-5f900a1b6b46",
   "metadata": {
    "ExecuteTime": {
     "end_time": "2024-11-07T14:41:07.549598Z",
     "start_time": "2024-11-07T14:41:07.545750Z"
    }
   },
   "source": [
    "def heur(cube):\n",
    "    estimate = 0\n",
    "    for i in range(12):\n",
    "        if cube.cube[i] != i:\n",
    "            estimate+=1 + (cube.cube[i]>12)\n",
    "    for i in range(2):\n",
    "        if cube.cube[12 + i] != i:\n",
    "            estimate+=1 + (cube.cube[12 + i]>8)\n",
    "        \n",
    "    return estimate"
   ],
   "outputs": [],
   "execution_count": 6
  },
  {
   "cell_type": "code",
   "id": "400e1ba30f308c96",
   "metadata": {
    "ExecuteTime": {
     "end_time": "2024-11-07T14:41:07.561487Z",
     "start_time": "2024-11-07T14:41:07.557381Z"
    }
   },
   "source": [
    "q = PriorityQueue()\n",
    "q.put((0, [' ',c]))\n",
    "visited = set()"
   ],
   "outputs": [],
   "execution_count": 7
  },
  {
   "cell_type": "code",
   "id": "3af3117e73c544b5",
   "metadata": {
    "ExecuteTime": {
     "end_time": "2024-11-07T14:41:07.575376Z",
     "start_time": "2024-11-07T14:41:07.568805Z"
    }
   },
   "source": [
    "def search():\n",
    "    while not q.empty():\n",
    "        (_, [path, cube]) = q.get()\n",
    "        if cube.cube not in visited:\n",
    "            visited.add(cube.cube)\n",
    "            if heur(cube) == 0:\n",
    "                return path\n",
    "            else:\n",
    "                for move in moves:\n",
    "                    new_cube  = ThistleCube(cube)\n",
    "                    new_cube.move_cube(move)\n",
    "                    new_path  = path + move\n",
    "                    q.put(((len(new_path) + heur(new_cube)), [new_path, new_cube]))"
   ],
   "outputs": [],
   "execution_count": 8
  },
  {
   "cell_type": "code",
   "id": "6e5687ddfc6f77c0",
   "metadata": {
    "ExecuteTime": {
     "end_time": "2024-11-07T14:53:10.931486Z",
     "start_time": "2024-11-07T14:41:07.581248Z"
    }
   },
   "source": [
    "solution = search()\n"
   ],
   "outputs": [
    {
     "ename": "KeyboardInterrupt",
     "evalue": "",
     "output_type": "error",
     "traceback": [
      "\u001B[1;31m---------------------------------------------------------------------------\u001B[0m",
      "\u001B[1;31mKeyboardInterrupt\u001B[0m                         Traceback (most recent call last)",
      "Cell \u001B[1;32mIn[9], line 1\u001B[0m\n\u001B[1;32m----> 1\u001B[0m solution \u001B[38;5;241m=\u001B[39m search()\n",
      "Cell \u001B[1;32mIn[8], line 13\u001B[0m, in \u001B[0;36msearch\u001B[1;34m()\u001B[0m\n\u001B[0;32m     11\u001B[0m new_cube\u001B[38;5;241m.\u001B[39mmove_cube(move)\n\u001B[0;32m     12\u001B[0m new_path  \u001B[38;5;241m=\u001B[39m path \u001B[38;5;241m+\u001B[39m move\n\u001B[1;32m---> 13\u001B[0m q\u001B[38;5;241m.\u001B[39mput(((\u001B[38;5;28mlen\u001B[39m(new_path) \u001B[38;5;241m+\u001B[39m heur(new_cube)), [new_path, new_cube]))\n",
      "File \u001B[1;32m~\\.conda\\envs\\matplotlib\\Lib\\queue.py:133\u001B[0m, in \u001B[0;36mQueue.put\u001B[1;34m(self, item, block, timeout)\u001B[0m\n\u001B[0;32m    122\u001B[0m \u001B[38;5;28;01mdef\u001B[39;00m \u001B[38;5;21mput\u001B[39m(\u001B[38;5;28mself\u001B[39m, item, block\u001B[38;5;241m=\u001B[39m\u001B[38;5;28;01mTrue\u001B[39;00m, timeout\u001B[38;5;241m=\u001B[39m\u001B[38;5;28;01mNone\u001B[39;00m):\n\u001B[0;32m    123\u001B[0m \u001B[38;5;250m    \u001B[39m\u001B[38;5;124;03m'''Put an item into the queue.\u001B[39;00m\n\u001B[0;32m    124\u001B[0m \n\u001B[0;32m    125\u001B[0m \u001B[38;5;124;03m    If optional args 'block' is true and 'timeout' is None (the default),\u001B[39;00m\n\u001B[1;32m   (...)\u001B[0m\n\u001B[0;32m    131\u001B[0m \u001B[38;5;124;03m    is ignored in that case).\u001B[39;00m\n\u001B[0;32m    132\u001B[0m \u001B[38;5;124;03m    '''\u001B[39;00m\n\u001B[1;32m--> 133\u001B[0m     \u001B[38;5;28;01mwith\u001B[39;00m \u001B[38;5;28mself\u001B[39m\u001B[38;5;241m.\u001B[39mnot_full:\n\u001B[0;32m    134\u001B[0m         \u001B[38;5;28;01mif\u001B[39;00m \u001B[38;5;28mself\u001B[39m\u001B[38;5;241m.\u001B[39mmaxsize \u001B[38;5;241m>\u001B[39m \u001B[38;5;241m0\u001B[39m:\n\u001B[0;32m    135\u001B[0m             \u001B[38;5;28;01mif\u001B[39;00m \u001B[38;5;129;01mnot\u001B[39;00m block:\n",
      "File \u001B[1;32m~\\.conda\\envs\\matplotlib\\Lib\\threading.py:300\u001B[0m, in \u001B[0;36mCondition.__enter__\u001B[1;34m(self)\u001B[0m\n\u001B[0;32m    299\u001B[0m \u001B[38;5;28;01mdef\u001B[39;00m \u001B[38;5;21m__enter__\u001B[39m(\u001B[38;5;28mself\u001B[39m):\n\u001B[1;32m--> 300\u001B[0m     \u001B[38;5;28;01mreturn\u001B[39;00m \u001B[38;5;28mself\u001B[39m\u001B[38;5;241m.\u001B[39m_lock\u001B[38;5;241m.\u001B[39m\u001B[38;5;21m__enter__\u001B[39m()\n",
      "\u001B[1;31mKeyboardInterrupt\u001B[0m: "
     ]
    }
   ],
   "execution_count": 9
  },
  {
   "cell_type": "code",
   "id": "f258db84-2d7c-4b48-aa50-6cd054982618",
   "metadata": {
    "ExecuteTime": {
     "end_time": "2024-11-07T14:40:10.900682Z",
     "start_time": "2024-11-07T14:40:10.893348Z"
    }
   },
   "source": [
    "c.move_cube(solution)\n",
    "print(c)"
   ],
   "outputs": [
    {
     "name": "stdout",
     "output_type": "stream",
     "text": [
      " 0  1  2  3  4  5  6  7  8  9  10  11  1 C4  0 C2  5 C7 C6 A3  0  WR YR OY WO RG RB OB OG WB YB YG WG \n"
     ]
    }
   ],
   "execution_count": 10
  },
  {
   "cell_type": "code",
   "id": "9fdafec4-fa21-4f09-bca0-4f581aa81f5b",
   "metadata": {
    "ExecuteTime": {
     "end_time": "2024-11-07T14:40:10.946980Z",
     "start_time": "2024-11-07T14:40:10.940280Z"
    }
   },
   "source": [
    "print(scramble + solution)"
   ],
   "outputs": [
    {
     "name": "stdout",
     "output_type": "stream",
     "text": [
      "LCSGRBSrBdSfFBlbuFlC EBuMVLDFdFEfE\n"
     ]
    }
   ],
   "execution_count": 11
  },
  {
   "cell_type": "code",
   "id": "6c5b9e23-3c77-4d0a-9a98-eb6bdb603280",
   "metadata": {
    "ExecuteTime": {
     "end_time": "2024-11-07T14:40:10.989086Z",
     "start_time": "2024-11-07T14:40:10.985972Z"
    }
   },
   "source": [],
   "outputs": [],
   "execution_count": null
  }
 ],
 "metadata": {
  "kernelspec": {
   "display_name": "Python 3 (ipykernel)",
   "language": "python",
   "name": "python3"
  },
  "language_info": {
   "codemirror_mode": {
    "name": "ipython",
    "version": 3
   },
   "file_extension": ".py",
   "mimetype": "text/x-python",
   "name": "python",
   "nbconvert_exporter": "python",
   "pygments_lexer": "ipython3",
   "version": "3.12.7"
  }
 },
 "nbformat": 4,
 "nbformat_minor": 5
}
