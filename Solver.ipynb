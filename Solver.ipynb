{
 "cells": [
  {
   "cell_type": "code",
   "id": "initial_id",
   "metadata": {
    "collapsed": true,
    "ExecuteTime": {
     "end_time": "2024-10-23T18:56:31.333297Z",
     "start_time": "2024-10-23T18:56:30.879068Z"
    }
   },
   "source": [
    "from src.ThistleCube import ThistleCube\n",
    "import random"
   ],
   "outputs": [],
   "execution_count": 1
  },
  {
   "metadata": {
    "ExecuteTime": {
     "end_time": "2024-10-23T18:56:31.341790Z",
     "start_time": "2024-10-23T18:56:31.339654Z"
    }
   },
   "cell_type": "code",
   "source": "c = ThistleCube()",
   "id": "d5664dbaca808384",
   "outputs": [],
   "execution_count": 2
  },
  {
   "metadata": {
    "ExecuteTime": {
     "end_time": "2024-10-23T18:56:31.390078Z",
     "start_time": "2024-10-23T18:56:31.387960Z"
    }
   },
   "cell_type": "code",
   "source": "print(c.cube)",
   "id": "5bd0d9e21b3d6889",
   "outputs": [
    {
     "name": "stdout",
     "output_type": "stream",
     "text": [
      "b'\\x10\\x11\\x12\\x13\\x04\\x05\\x06\\x07\\x08\\t\\n\\x0b\\x00\\x01\\x02\\x03\\x04\\x05\\x06\\x07\\x00'\n"
     ]
    }
   ],
   "execution_count": 3
  },
  {
   "metadata": {
    "ExecuteTime": {
     "end_time": "2024-10-23T18:56:31.455362Z",
     "start_time": "2024-10-23T18:56:31.453194Z"
    }
   },
   "cell_type": "code",
   "source": [
    "def scramble_cube():\n",
    "    moves = \"\"\n",
    "    for m in range(20):\n",
    "        moves = moves + random.choice('RrLlUuDdFfBb')\n",
    "    return moves\n"
   ],
   "id": "732515e3768ccaf1",
   "outputs": [],
   "execution_count": 4
  },
  {
   "metadata": {
    "ExecuteTime": {
     "end_time": "2024-10-23T18:56:44.132888Z",
     "start_time": "2024-10-23T18:56:31.464051Z"
    }
   },
   "cell_type": "code",
   "source": [
    "for i in range(10):\n",
    "    move = scramble_cube()\n",
    "    c = ThistleCube()\n",
    " #   print('New', c.cube)\n",
    "    c.move_cube(move)\n",
    "    print()\n",
    "    print('Scr', c.cube)\n",
    "    solved = c.solve()\n",
    "   \n",
    "    c.move_cube(solved)\n",
    "    print('Sol', c.cube, solved)\n",
    "    \n",
    "\n",
    "    print(i, 'Scramble :', move, 'Solution :', solved)"
   ],
   "id": "eef845bd546b3283",
   "outputs": [
    {
     "name": "stdout",
     "output_type": "stream",
     "text": [
      "\n",
      "Scr b'\\x89\\x08\\x12\\x06\\x85\\x84\\x0b\\x91\\x13\\x90\\x07\\x8a\\x02\\x83\\x87EF\\x01\\x80D\\x00'\n",
      "Sol b'\\x11\\x10\\x13\\x12\\t\\x06\\n\\x04\\x08\\x0b\\x07\\x05\\x00\\x06\\x03\\x05\\x04\\x07\\x01\\x02\\x00' GuLfru-VCSlCfl\n",
      "0 Scramble : rLDbrblrLFuLFFLrlbLF Solution : GuLfru-VCSlCfl\n",
      "\n",
      "Scr b'\\x10\\x91\\x0b\\x12\\x05\\x04\\x86\\x89\\x8a\\x87\\x13\\x88\\x04B\\x81@\\x06\\x05\\x83\\x07\\x00'\n",
      "Sol b'\\x10\\x11\\x13\\x12\\x05\\x04\\x08\\t\\x07\\x0b\\n\\x06\\x04\\x07\\x00\\x03\\x06\\x02\\x01\\x05\\x00' rDMu-MElFMRbl\n",
      "1 Scramble : ruuDLbLuDdrDRFrdfUuu Solution : rDMu-MElFMRbl\n",
      "\n",
      "Scr b'\\x88\\x89\\x11\\x84\\x0b\\x87\\x05\\x12\\x86\\n\\x90\\x13\\x02GD\\x01@EFC\\x00'\n",
      "Sol b'\\x12\\x13\\x10\\x11\\x08\\x0b\\x05\\x04\\x07\\x06\\t\\n\\x03\\x05\\x01\\x04\\x02\\x07\\x06\\x00\\x00' Gdufu-SLfMRflr\n",
      "2 Scramble : rFUuBbdUfBdfLluFBlLU Solution : Gdufu-SLfMRflr\n",
      "\n",
      "Scr b'\\x85\\x11\\x08\\x04\\x06\\x10\\x12\\x13\\x89\\n\\x07\\x0b\\x03\\x82\\x05\\x07\\x00\\x06\\x81\\x84\\x00'\n",
      "Sol b'\\x11\\x13\\x10\\x12\\x0b\\x05\\n\\x04\\t\\x06\\x07\\x08\\x01\\x07\\x00\\x04\\x02\\x06\\x03\\x05\\x80' LUlu-fMERBEFr\n",
      "3 Scramble : rrFRfFDUdlDfFDuFfLBb Solution : LUlu-fMERBEFr\n",
      "\n",
      "Scr b'\\x86\\x92\\x87\\x04\\x8b\\x88\\x90\\x89\\x13\\x91\\x8a\\x85B\\x05\\x03AFGD@\\x00'\n",
      "Sol b'\\x13\\x11\\x12\\x10\\x0b\\x07\\t\\x08\\x05\\x06\\n\\x04\\x06\\x05\\x03\\x07\\x04\\x00\\x01\\x02\\x80' Ufrdbu-brEbflFr\n",
      "4 Scramble : DbUUFubrfbRFrfrLBbUB Solution : Ufrdbu-brEbflFr\n",
      "\n",
      "Scr b'\\x0b\\x86\\x87\\x11\\x04\\x85\\x8a\\x90\\x92\\x88\\x13\\x89\\x00\\x02\\x87\\x03\\x86\\x84\\x05\\x01\\x00'\n",
      "Sol b'\\x13\\x11\\x10\\x12\\x05\\x08\\x07\\x06\\x0b\\t\\x04\\n\\x06\\x04\\x00\\x03\\x01\\x05\\x02\\x07\\x80' RCdblu-rbEVBr\n",
      "5 Scramble : BRrFUDdbLrdBBlRbLbbb Solution : RCdblu-rbEVBr\n",
      "\n",
      "Scr b'\\x06\\x84\\n\\x87\\t\\x8b\\x10\\x85\\x88\\x91\\x93\\x92\\x82E\\x04\\x87FAC@\\x00'\n",
      "Sol b'\\x12\\x10\\x13\\x11\\t\\n\\x06\\x04\\x08\\x0b\\x07\\x05\\x04\\x03\\x06\\x00\\x07\\x01\\x02\\x05\\x00' dlru-ECfrCfr\n",
      "6 Scramble : rUFfrFUDrDUlRrlrUfRd Solution : dlru-ECfrCfr\n",
      "\n",
      "Scr b'\\x11\\t\\x08\\x8a\\x84\\x8b\\x05\\x06\\x87\\x90\\x93\\x12\\x01\\x03\\x87@BF\\x04E\\x00'\n",
      "Sol b'\\x10\\x12\\x11\\x13\\x0b\\x07\\t\\x06\\x08\\n\\x05\\x04\\x04\\x00\\x02\\x01\\x06\\x05\\x03\\x07\\x00' Uldu-RlBVlBr\n",
      "7 Scramble : FbrlulrfLrRrLBurUllD Solution : Uldu-RlBVlBr\n",
      "\n",
      "Scr b'\\x05\\x04\\x90\\x93\\t\\x06\\x8a\\x0b\\x88\\x12\\x11\\x07\\x05\\x83G\\x82@\\x06\\x04\\x01\\x00'\n",
      "Sol b'\\x10\\x12\\x11\\x13\\x05\\x07\\t\\x04\\x0b\\x08\\n\\x06\\x02\\x07\\x06\\x04\\x05\\x01\\x00\\x03\\x00' VRfu-LfrBVrBl\n",
      "8 Scramble : UUUFdldDBrfrdrLlRlrD Solution : VRfu-LfrBVrBl\n",
      "\n",
      "Scr b'\\x11\\x85\\x8a\\x93\\x04\\x87\\x06\\x0b\\x10\\x12\\x08\\tB\\x81\\x06E\\x07D\\x03@\\x00'\n",
      "Sol b'\\x12\\x13\\x11\\x10\\n\\x05\\x07\\x06\\x04\\t\\x0b\\x08\\x07\\x05\\x06\\x01\\x04\\x02\\x03\\x00\\x80' frbrd-FMErFVr\n",
      "9 Scramble : fUFdLfruUFLUDLLrdDfd Solution : frbrd-FMErFVr\n"
     ]
    }
   ],
   "execution_count": 5
  },
  {
   "metadata": {
    "ExecuteTime": {
     "end_time": "2024-10-23T18:56:44.142903Z",
     "start_time": "2024-10-23T18:56:44.139617Z"
    }
   },
   "cell_type": "code",
   "source": "c.thistle_tables[0]['Dr']",
   "id": "e2bb3aff3b143ae4",
   "outputs": [
    {
     "data": {
      "text/plain": [
       "b'\\x10\\x8a\\x07\\x06\\x04\\x05\\x12\\x89\\x08\\x91\\x93\\x0b\\x00E\\x81\\x07\\x04\\x82\\x03F\\x80'"
      ]
     },
     "execution_count": 6,
     "metadata": {},
     "output_type": "execute_result"
    }
   ],
   "execution_count": 6
  },
  {
   "metadata": {
    "ExecuteTime": {
     "end_time": "2024-10-23T18:56:44.151305Z",
     "start_time": "2024-10-23T18:56:44.149845Z"
    }
   },
   "cell_type": "code",
   "source": "",
   "id": "50121d4cd8398f0",
   "outputs": [],
   "execution_count": null
  }
 ],
 "metadata": {
  "kernelspec": {
   "display_name": "Python 3",
   "language": "python",
   "name": "python3"
  },
  "language_info": {
   "codemirror_mode": {
    "name": "ipython",
    "version": 2
   },
   "file_extension": ".py",
   "mimetype": "text/x-python",
   "name": "python",
   "nbconvert_exporter": "python",
   "pygments_lexer": "ipython2",
   "version": "2.7.6"
  }
 },
 "nbformat": 4,
 "nbformat_minor": 5
}
