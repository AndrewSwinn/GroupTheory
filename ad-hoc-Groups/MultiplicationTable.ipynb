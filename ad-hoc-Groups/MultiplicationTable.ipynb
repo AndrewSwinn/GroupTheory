{
 "cells": [
  {
   "cell_type": "code",
   "id": "initial_id",
   "metadata": {
    "ExecuteTime": {
     "end_time": "2025-02-16T14:27:01.952287100Z",
     "start_time": "2025-02-16T14:27:01.358520800Z"
    }
   },
   "source": [
    "from src.Group import Group\n",
    "import matplotlib.pyplot as plt\n",
    "import numpy as np"
   ],
   "outputs": [],
   "execution_count": 1
  },
  {
   "cell_type": "code",
   "id": "cf7dc1d0985d0f37",
   "metadata": {
    "collapsed": false,
    "ExecuteTime": {
     "end_time": "2025-02-16T14:27:05.071316700Z",
     "start_time": "2025-02-16T14:27:05.064803400Z"
    }
   },
   "source": [
    "#Cyclic Groups\n",
    "C3 = Group(generators={'r': [(1,2,3)]})\n",
    "C4 = Group(generators={'r': [(1,2,3,4)]})\n",
    "C5 = Group(generators={'r': [(1,2,3,4,5)]})\n",
    "\n",
    "#Dihedral Groups\n",
    "D5 = Group(generators={'r': [(1,2,3,4,5)],   'f':[(2,5),(3,4)],      } )\n",
    "D6 = Group(generators={'r': [(1,2,3,4,5,6)], 'f':[(1,6),(2,5),(3,4)] } )\n",
    "\n",
    "#Symmetric Groups\n",
    "S3 = Group(generators={'a': [(1,2,3)],     'b':[(1,2)]} )\n",
    "S4 = Group(generators={'a': [(1,2,3,4)],   'b':[(1,2)]} )\n",
    "S5 = Group(generators={'a': [(1,2,3,4,5)], 'b':[(1,2)]} )\n",
    "\n",
    "V4 = Group(generators={'h':[(1,2),(3,4)],  'v':[(1,3),(2,4)]} )\n",
    "\n",
    "\n",
    "C3C4 = Group(factors=[C3, C4])\n",
    "C3C4C5 = Group(factors=[C3, C4, C5])\n"
   ],
   "outputs": [],
   "execution_count": 2
  },
  {
   "cell_type": "code",
   "id": "65861fd4efe091be",
   "metadata": {
    "collapsed": false,
    "ExecuteTime": {
     "end_time": "2025-02-16T14:27:09.147520300Z",
     "start_time": "2025-02-16T14:27:09.132948Z"
    }
   },
   "source": [
    "def multiplication_table(group):\n",
    "    order = len(group.elements)\n",
    "    table = np.zeros(shape=(order, order))\n",
    "\n",
    "    for i in group.elements:\n",
    "        for j in group.elements:\n",
    "            product = group.element_multiply(i, j)\n",
    "            table[i.number - 1, j.number - 1] = product.number\n",
    "    return table\n",
    "        \n",
    "mult  = multiplication_table(V4)"
   ],
   "outputs": [],
   "execution_count": 3
  },
  {
   "cell_type": "code",
   "id": "f9d3e2af8013df08",
   "metadata": {
    "collapsed": false,
    "ExecuteTime": {
     "end_time": "2025-02-16T14:27:11.055251Z",
     "start_time": "2025-02-16T14:27:10.583654200Z"
    }
   },
   "source": [
    "plt.style.use('classic')\n",
    "\n",
    "fig, ax = plt.subplots()\n",
    "\n",
    "img=ax.imshow(mult, origin='upper', cmap='Blues', interpolation='none')\n",
    "\n",
    "fig.colorbar(img)\n",
    "\n",
    "plt.show()"
   ],
   "outputs": [
    {
     "data": {
      "text/plain": "<Figure size 640x480 with 2 Axes>",
      "image/png": "[encoded data removed]"
     },
     "metadata": {},
     "output_type": "display_data"
    }
   ],
   "execution_count": 4
  },
  {
   "cell_type": "code",
   "execution_count": 5,
   "outputs": [],
   "source": [],
   "metadata": {
    "collapsed": false,
    "ExecuteTime": {
     "end_time": "2025-01-26T19:36:18.145799300Z",
     "start_time": "2025-01-26T19:36:18.140788Z"
    }
   },
   "id": "53d9ad4106f257d9"
  }
 ],
 "metadata": {
  "kernelspec": {
   "display_name": "Python 3 (ipykernel)",
   "language": "python",
   "name": "python3"
  },
  "language_info": {
   "codemirror_mode": {
    "name": "ipython",
    "version": 3
   },
   "file_extension": ".py",
   "mimetype": "text/x-python",
   "name": "python",
   "nbconvert_exporter": "python",
   "pygments_lexer": "ipython3",
   "version": "3.12.7"
  }
 },
 "nbformat": 4,
 "nbformat_minor": 5
}
