{
 "cells": [
  {
   "cell_type": "code",
   "id": "initial_id",
   "metadata": {
    "ExecuteTime": {
     "end_time": "2025-02-16T16:58:25.123835Z",
     "start_time": "2025-02-16T16:58:24.626811800Z"
    }
   },
   "source": [
    "from src.Group import Group\n",
    "import itertools\n",
    "import copy\n",
    "import matplotlib.pyplot as plt\n",
    "import numpy as np"
   ],
   "outputs": [],
   "execution_count": 1
  },
  {
   "cell_type": "code",
   "id": "cf7dc1d0985d0f37",
   "metadata": {
    "collapsed": false,
    "ExecuteTime": {
     "end_time": "2025-02-16T16:58:26.512285600Z",
     "start_time": "2025-02-16T16:58:26.469446Z"
    }
   },
   "source": [
    "#Cyclic Groups\n",
    "C3 = Group(generators={'r': [(1,2,3)]})\n",
    "C4 = Group(generators={'r': [(1,2,3,4)]})\n",
    "C5 = Group(generators={'r': [(1,2,3,4,5)]})\n",
    "C6 = Group(generators={'r': [(1,2,3,4,5,6)]})\n",
    "C13 = Group(generators={'r':[(1,2,3,4,5,6,7,8,9,10,11,12,13)]})\n",
    "\n",
    "#Dihedral Groups\n",
    "D5 = Group(generators={'r': [(1,2,3,4,5)],   'f':[(2,5),(3,4)],      } )\n",
    "D6 = Group(generators={'r': [(1,2,3,4,5,6)], 'f':[(1,6),(2,5),(3,4)] } )\n",
    "\n",
    "#Symmetric Groups\n",
    "S3 = Group(generators={'a': [(1,2,3)],     'b':[(1,2)]} )\n",
    "S4 = Group(generators={'a': [(1,2,3,4)],   'b':[(1,2)]} )\n",
    "S5 = Group(generators={'a': [(1,2,3,4,5)], 'b':[(1,2)]} )\n",
    "\n",
    "V4 = Group(generators={'h':[(1,2),(3,4)],  'v':[(1,3),(2,4)]} )\n",
    "\n",
    "\n",
    "C3C3 = Group(factors=[C3, C3])\n",
    "C3C4C5 = Group(factors=[C3, C4, C5])\n",
    "\n",
    "group = S3\n"
   ],
   "outputs": [],
   "execution_count": 2
  },
  {
   "cell_type": "code",
   "execution_count": 3,
   "outputs": [],
   "source": [
    "group.subgroups()\n"
   ],
   "metadata": {
    "collapsed": false,
    "ExecuteTime": {
     "end_time": "2025-02-16T16:58:27.360594600Z",
     "start_time": "2025-02-16T16:58:27.352500300Z"
    }
   },
   "id": "3bf42e8bbcd36faa"
  },
  {
   "cell_type": "code",
   "execution_count": 4,
   "outputs": [
    {
     "name": "stdout",
     "output_type": "stream",
     "text": [
      "['e']\n",
      "['e', 'a', 'aa']\n",
      "['e', 'b']\n",
      "['e', 'ab']\n",
      "['e', 'aab']\n",
      "['e', 'a', 'b', 'aa', 'ab', 'aab']\n"
     ]
    }
   ],
   "source": [
    "for subgroup in group.subgroups:\n",
    "    print([element.name for element in subgroup.elements])"
   ],
   "metadata": {
    "collapsed": false,
    "ExecuteTime": {
     "end_time": "2025-02-16T16:58:28.107387400Z",
     "start_time": "2025-02-16T16:58:28.097909300Z"
    }
   },
   "id": "83c7e93ee5072af0"
  },
  {
   "cell_type": "code",
   "execution_count": 11,
   "outputs": [],
   "source": [
    "cosets = group.cosets(group.subgroups[2])"
   ],
   "metadata": {
    "collapsed": false,
    "ExecuteTime": {
     "end_time": "2025-02-16T16:59:36.076670800Z",
     "start_time": "2025-02-16T16:59:36.043422600Z"
    }
   },
   "id": "497eb638bf8bbcae"
  },
  {
   "cell_type": "code",
   "execution_count": 12,
   "outputs": [
    {
     "data": {
      "text/plain": "2"
     },
     "execution_count": 12,
     "metadata": {},
     "output_type": "execute_result"
    }
   ],
   "source": [
    "len(cosets)"
   ],
   "metadata": {
    "collapsed": false,
    "ExecuteTime": {
     "end_time": "2025-02-16T16:59:36.856870700Z",
     "start_time": "2025-02-16T16:59:36.826751400Z"
    }
   },
   "id": "11d024eeddcdaefa"
  },
  {
   "metadata": {
    "ExecuteTime": {
     "end_time": "2025-02-16T16:58:16.113638400Z",
     "start_time": "2025-02-16T16:58:15.536935Z"
    }
   },
   "cell_type": "code",
   "source": [
    "coset_sets = []\n",
    "cosets     = []\n",
    "for start in group.elements:\n",
    "    for element in group.elements:\n",
    "        nextstep = start\n",
    "        coset_set = set()\n",
    "        coset     = []\n",
    "        while True:\n",
    "            coset_set.add(nextstep.number)\n",
    "            coset.append(nextstep)\n",
    "            nextstep = group.element_multiply(element, nextstep)\n",
    "            if nextstep.number == start.number:\n",
    "                break\n",
    "        if coset_set not in coset_sets:\n",
    "            coset_sets.append(coset_set)\n",
    "            cosets.append({'Element': element, 'Start': start, 'Members':coset})"
   ],
   "id": "11f3a9cef7f6ebd0",
   "outputs": [
    {
     "ename": "NameError",
     "evalue": "name 'group' is not defined",
     "output_type": "error",
     "traceback": [
      "\u001B[1;31m---------------------------------------------------------------------------\u001B[0m",
      "\u001B[1;31mNameError\u001B[0m                                 Traceback (most recent call last)",
      "Cell \u001B[1;32mIn[1], line 3\u001B[0m\n\u001B[0;32m      1\u001B[0m coset_sets \u001B[38;5;241m=\u001B[39m []\n\u001B[0;32m      2\u001B[0m cosets     \u001B[38;5;241m=\u001B[39m []\n\u001B[1;32m----> 3\u001B[0m \u001B[38;5;28;01mfor\u001B[39;00m start \u001B[38;5;129;01min\u001B[39;00m \u001B[43mgroup\u001B[49m\u001B[38;5;241m.\u001B[39melements:\n\u001B[0;32m      4\u001B[0m     \u001B[38;5;28;01mfor\u001B[39;00m element \u001B[38;5;129;01min\u001B[39;00m group\u001B[38;5;241m.\u001B[39melements:\n\u001B[0;32m      5\u001B[0m         nextstep \u001B[38;5;241m=\u001B[39m start\n",
      "\u001B[1;31mNameError\u001B[0m: name 'group' is not defined"
     ]
    }
   ],
   "execution_count": 1
  },
  {
   "metadata": {
    "ExecuteTime": {
     "end_time": "2025-02-13T16:23:48.107591600Z",
     "start_time": "2025-02-13T16:23:48.101062900Z"
    }
   },
   "cell_type": "code",
   "source": [
    "for coset in cosets:\n",
    "    element = coset['Element']\n",
    "    start   = coset['Start']\n",
    "    members = coset['Members']\n",
    "    names  = [element.pretty_name for element in members]\n",
    "    print(start.name, element.name, names)"
   ],
   "id": "260df6ea7792c38b",
   "outputs": [
    {
     "name": "stdout",
     "output_type": "stream",
     "text": [
      "e e ['e']\n",
      "e h ['e', 'h']\n",
      "e v ['e', 'v']\n",
      "e hv ['e', 'hv']\n",
      "h e ['h']\n",
      "h v ['h', 'hv']\n",
      "h hv ['h', 'v']\n",
      "v e ['v']\n",
      "v h ['v', 'hv']\n",
      "hv e ['hv']\n"
     ]
    }
   ],
   "execution_count": 14
  },
  {
   "metadata": {
    "ExecuteTime": {
     "end_time": "2025-02-13T16:18:30.993486Z",
     "start_time": "2025-02-13T16:18:30.969014700Z"
    }
   },
   "cell_type": "code",
   "source": [
    "subgroups = [coset for coset in cosets if 1 in [element.number for element in coset ]]"
   ],
   "id": "f4b4b4c96362570e",
   "outputs": [],
   "execution_count": 8
  },
  {
   "metadata": {
    "ExecuteTime": {
     "end_time": "2025-02-13T14:53:39.760777Z",
     "start_time": "2025-02-13T14:53:39.750064Z"
    }
   },
   "cell_type": "code",
   "source": [
    "for subgroup in subgroups:\n",
    "    names = [element.pretty_name for element in subgroup]\n",
    "    print(names)"
   ],
   "id": "93a9af94d5dee64c",
   "outputs": [
    {
     "name": "stdout",
     "output_type": "stream",
     "text": [
      "['e']\n",
      "['e', 'h']\n",
      "['e', 'v']\n",
      "['e', 'hv']\n"
     ]
    }
   ],
   "execution_count": 97
  },
  {
   "metadata": {
    "ExecuteTime": {
     "end_time": "2025-02-13T16:28:46.108795700Z",
     "start_time": "2025-02-13T16:28:46.099553600Z"
    }
   },
   "cell_type": "code",
   "outputs": [
    {
     "name": "stdout",
     "output_type": "stream",
     "text": [
      "(1,)\n",
      "(2,)\n",
      "(3,)\n",
      "(1, 2)\n",
      "(1, 3)\n",
      "(2, 3)\n",
      "(1, 2, 3)\n"
     ]
    }
   ],
   "execution_count": 26,
   "source": [
    "a = [1,2,3]\n",
    "for l in range(1, len(a)+1):\n",
    "    for comm in itertools.combinations(a,l):\n",
    "        print(comm)"
   ],
   "id": "7680207d8f262936"
  },
  {
   "cell_type": "code",
   "execution_count": 49,
   "outputs": [],
   "source": [
    "coset_sets = []\n",
    "cosets     = []\n",
    "group_set  = set(element.number for element in group.elements)\n",
    "\n",
    "for start in group.elements:\n",
    "    for length in range(1, len(group.elements) + 1):\n",
    "        for elements in itertools.combinations(group.elements, length):\n",
    "            nextstep = start\n",
    "            coset_set = set()\n",
    "            coset     = []\n",
    "            while True:\n",
    "                coset_set.add(nextstep.number)\n",
    "                coset.append(nextstep)\n",
    "                for element in elements:\n",
    "                    nextstep = group.element_multiply(element, nextstep)\n",
    "                if nextstep.number == start.number:\n",
    "                    break\n",
    "                                \n",
    "            if coset_set not in coset_sets:\n",
    "                coset_sets.append(coset_set)\n",
    "                cosets.append({'Elements': elements, 'Start': start, 'Members':coset})\n",
    "                \n",
    "if group_set not in coset_sets:\n",
    "    cosets.append({'Elements': None, 'Start': None, 'Members':group.elements})\n",
    "                \n",
    "                \n",
    "           \n",
    "                "
   ],
   "metadata": {
    "collapsed": false,
    "ExecuteTime": {
     "end_time": "2025-02-13T16:58:12.895294200Z",
     "start_time": "2025-02-13T16:58:12.889029600Z"
    }
   },
   "id": "dd1444cc45e3c321"
  },
  {
   "cell_type": "code",
   "execution_count": 53,
   "outputs": [
    {
     "name": "stdout",
     "output_type": "stream",
     "text": [
      "e ['e'] ('e',)\n",
      "e ['h'] ('e', 'h')\n",
      "e ['v'] ('e', 'v')\n",
      "e ['hv'] ('e', 'hv')\n",
      "h ['e'] ('h',)\n",
      "h ['v'] ('h', 'hv')\n",
      "h ['hv'] ('h', 'v')\n",
      "v ['e'] ('v',)\n",
      "v ['h'] ('v', 'hv')\n",
      "hv ['e'] ('hv',)\n",
      "None None ('e', 'h', 'v', 'hv')\n"
     ]
    }
   ],
   "source": [
    "for coset in cosets:\n",
    "    elements = coset['Elements']\n",
    "    start   =  coset['Start']\n",
    "    members =  coset['Members']\n",
    "    start_name    = start.pretty_name if start is not None else None\n",
    "    element_names = [element.pretty_name for element in elements] if elements is not None else None\n",
    "    names  = [element.pretty_name for element in members]\n",
    "    print(start_name, str(element_names), tuple(names))"
   ],
   "metadata": {
    "collapsed": false,
    "ExecuteTime": {
     "end_time": "2025-02-13T17:00:14.964522300Z",
     "start_time": "2025-02-13T17:00:14.954132100Z"
    }
   },
   "id": "c07c6921fd7efc05"
  },
  {
   "cell_type": "code",
   "execution_count": 14,
   "outputs": [],
   "source": [
    "a = (1,2)\n",
    "b = (2,1)"
   ],
   "metadata": {
    "collapsed": false,
    "ExecuteTime": {
     "end_time": "2025-02-16T12:24:44.400587500Z",
     "start_time": "2025-02-16T12:24:44.370906300Z"
    }
   },
   "id": "23f0fdd4cd411348"
  },
  {
   "cell_type": "code",
   "execution_count": 15,
   "outputs": [
    {
     "data": {
      "text/plain": "False"
     },
     "execution_count": 15,
     "metadata": {},
     "output_type": "execute_result"
    }
   ],
   "source": [
    "a==b"
   ],
   "metadata": {
    "collapsed": false,
    "ExecuteTime": {
     "end_time": "2025-02-16T12:24:44.903827Z",
     "start_time": "2025-02-16T12:24:44.890753200Z"
    }
   },
   "id": "d19a7245b439c38"
  },
  {
   "cell_type": "code",
   "execution_count": null,
   "outputs": [],
   "source": [],
   "metadata": {
    "collapsed": false
   },
   "id": "41ddbf37ecf39aaf"
  }
 ],
 "metadata": {
  "kernelspec": {
   "display_name": "Python 3 (ipykernel)",
   "language": "python",
   "name": "python3"
  },
  "language_info": {
   "codemirror_mode": {
    "name": "ipython",
    "version": 3
   },
   "file_extension": ".py",
   "mimetype": "text/x-python",
   "name": "python",
   "nbconvert_exporter": "python",
   "pygments_lexer": "ipython3",
   "version": "3.12.7"
  }
 },
 "nbformat": 4,
 "nbformat_minor": 5
}
