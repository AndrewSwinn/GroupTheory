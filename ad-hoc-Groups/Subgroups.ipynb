{
 "cells": [
  {
   "cell_type": "code",
   "id": "initial_id",
   "metadata": {
    "ExecuteTime": {
     "end_time": "2025-02-13T10:00:48.563343Z",
     "start_time": "2025-02-13T10:00:48.559195Z"
    }
   },
   "source": [
    "from src.Group import Group\n",
    "import copy\n",
    "import matplotlib.pyplot as plt\n",
    "import numpy as np"
   ],
   "outputs": [],
   "execution_count": 6
  },
  {
   "cell_type": "code",
   "id": "cf7dc1d0985d0f37",
   "metadata": {
    "collapsed": false,
    "ExecuteTime": {
     "end_time": "2025-02-13T14:45:29.888323Z",
     "start_time": "2025-02-13T14:45:29.847315Z"
    }
   },
   "source": [
    "#Cyclic Groups\n",
    "C3 = Group(generators={'r': [(1,2,3)]})\n",
    "C4 = Group(generators={'r': [(1,2,3,4)]})\n",
    "C5 = Group(generators={'r': [(1,2,3,4,5)]})\n",
    "\n",
    "#Dihedral Groups\n",
    "D5 = Group(generators={'r': [(1,2,3,4,5)],   'f':[(2,5),(3,4)],      } )\n",
    "D6 = Group(generators={'r': [(1,2,3,4,5,6)], 'f':[(1,6),(2,5),(3,4)] } )\n",
    "\n",
    "#Symmetric Groups\n",
    "S3 = Group(generators={'a': [(1,2,3)],     'b':[(1,2)]} )\n",
    "S4 = Group(generators={'a': [(1,2,3,4)],   'b':[(1,2)]} )\n",
    "S5 = Group(generators={'a': [(1,2,3,4,5)], 'b':[(1,2)]} )\n",
    "\n",
    "V4 = Group(generators={'h':[(1,2),(3,4)],  'v':[(1,3),(2,4)]} )\n",
    "\n",
    "\n",
    "C3C4 = Group(factors=[C3, C4])\n",
    "C3C4C5 = Group(factors=[C3, C4, C5])\n",
    "\n",
    "group = V4\n"
   ],
   "outputs": [],
   "execution_count": 80
  },
  {
   "cell_type": "code",
   "source": [
    "subgroup_sets = []\n",
    "subgroups     = []\n",
    "for element in group.elements:\n",
    "    nextstep = group.elements[0]\n",
    "    subgroup_set = set()\n",
    "    subgroup     = []\n",
    "    while True:\n",
    "        subgroup_set.add(nextstep.number)\n",
    "        subgroup.append(nextstep)\n",
    "        nextstep = group.element_multiply(element, nextstep)\n",
    "        if nextstep.number == 1:\n",
    "            break\n",
    "    if subgroup_set not in subgroup_sets:\n",
    "        subgroup_sets.append(subgroup_set)\n",
    "        subgroups.append(subgroup)\n",
    "\n",
    "   "
   ],
   "metadata": {
    "collapsed": false,
    "ExecuteTime": {
     "end_time": "2025-02-13T14:45:30.370748Z",
     "start_time": "2025-02-13T14:45:30.365025Z"
    }
   },
   "id": "53d9ad4106f257d9",
   "outputs": [],
   "execution_count": 81
  },
  {
   "metadata": {
    "ExecuteTime": {
     "end_time": "2025-02-13T14:45:31.098734Z",
     "start_time": "2025-02-13T14:45:31.079619Z"
    }
   },
   "cell_type": "code",
   "source": [
    "for subgroup in subgroups:\n",
    "    names  = [element.pretty_name for element in subgroup]\n",
    "    print(names)"
   ],
   "id": "f89926fefb76f933",
   "outputs": [
    {
     "name": "stdout",
     "output_type": "stream",
     "text": [
      "['e']\n",
      "['e', 'h']\n",
      "['e', 'v']\n",
      "['e', 'hv']\n"
     ]
    }
   ],
   "execution_count": 82
  },
  {
   "metadata": {
    "ExecuteTime": {
     "end_time": "2025-02-13T14:45:32.643428Z",
     "start_time": "2025-02-13T14:45:32.628786Z"
    }
   },
   "cell_type": "code",
   "source": [
    "for element in group.elements:\n",
    "    \n",
    "    print(element)\n",
    "    "
   ],
   "id": "56a192b5157a761e",
   "outputs": [
    {
     "name": "stdout",
     "output_type": "stream",
     "text": [
      "1 e (1, 2, 3, 4)\n",
      "2 h (2, 1, 4, 3)\n",
      "3 v (3, 4, 1, 2)\n",
      "4 hv (4, 3, 2, 1)\n"
     ]
    }
   ],
   "execution_count": 83
  },
  {
   "metadata": {
    "ExecuteTime": {
     "end_time": "2025-02-13T14:49:10.654421Z",
     "start_time": "2025-02-13T14:49:10.639750Z"
    }
   },
   "cell_type": "code",
   "source": [
    "coset_sets = []\n",
    "cosets     = []\n",
    "for start in group.elements:\n",
    "    for element in group.elements:\n",
    "        nextstep = start\n",
    "        coset_set = set()\n",
    "        coset     = []\n",
    "        while True:\n",
    "            coset_set.add(nextstep.number)\n",
    "            coset.append(nextstep)\n",
    "            nextstep = group.element_multiply(element, nextstep)\n",
    "            if nextstep.number == start.number:\n",
    "                break\n",
    "        if coset_set not in coset_sets:\n",
    "            coset_sets.append(coset_set)\n",
    "            cosets.append(coset)"
   ],
   "id": "11f3a9cef7f6ebd0",
   "outputs": [],
   "execution_count": 85
  },
  {
   "metadata": {
    "ExecuteTime": {
     "end_time": "2025-02-13T14:50:20.703191Z",
     "start_time": "2025-02-13T14:50:20.695730Z"
    }
   },
   "cell_type": "code",
   "source": [
    "for coset in cosets:\n",
    "    names  = [element.pretty_name for element in coset]\n",
    "    print(names)"
   ],
   "id": "260df6ea7792c38b",
   "outputs": [
    {
     "name": "stdout",
     "output_type": "stream",
     "text": [
      "['e']\n",
      "['e', 'h']\n",
      "['e', 'v']\n",
      "['e', 'hv']\n",
      "['h']\n",
      "['h', 'hv']\n",
      "['h', 'v']\n",
      "['v']\n",
      "['v', 'hv']\n",
      "['hv']\n"
     ]
    }
   ],
   "execution_count": 87
  },
  {
   "metadata": {
    "ExecuteTime": {
     "end_time": "2025-02-13T14:53:17.771290Z",
     "start_time": "2025-02-13T14:53:17.762654Z"
    }
   },
   "cell_type": "code",
   "source": "subgroups = [coset for coset in cosets if 1 in [element.number for element in coset ]]",
   "id": "f4b4b4c96362570e",
   "outputs": [],
   "execution_count": 95
  },
  {
   "metadata": {
    "ExecuteTime": {
     "end_time": "2025-02-13T14:53:18.508904Z",
     "start_time": "2025-02-13T14:53:18.492950Z"
    }
   },
   "cell_type": "code",
   "source": "subgroups",
   "id": "b5f546da9277ea4",
   "outputs": [
    {
     "data": {
      "text/plain": [
       "[[<src.Group.Element at 0x25d5886b830>],\n",
       " [<src.Group.Element at 0x25d5886b830>, <src.Group.Element at 0x25d58869dc0>],\n",
       " [<src.Group.Element at 0x25d5886b830>, <src.Group.Element at 0x25d575dfe60>],\n",
       " [<src.Group.Element at 0x25d5886b830>, <src.Group.Element at 0x25d575dffb0>]]"
      ]
     },
     "execution_count": 96,
     "metadata": {},
     "output_type": "execute_result"
    }
   ],
   "execution_count": 96
  },
  {
   "metadata": {
    "ExecuteTime": {
     "end_time": "2025-02-13T14:53:39.760777Z",
     "start_time": "2025-02-13T14:53:39.750064Z"
    }
   },
   "cell_type": "code",
   "source": [
    "for subgroup in subgroups:\n",
    "    names = [element.pretty_name for element in subgroup]\n",
    "    print(names)"
   ],
   "id": "93a9af94d5dee64c",
   "outputs": [
    {
     "name": "stdout",
     "output_type": "stream",
     "text": [
      "['e']\n",
      "['e', 'h']\n",
      "['e', 'v']\n",
      "['e', 'hv']\n"
     ]
    }
   ],
   "execution_count": 97
  },
  {
   "metadata": {},
   "cell_type": "code",
   "outputs": [],
   "execution_count": null,
   "source": "",
   "id": "7680207d8f262936"
  }
 ],
 "metadata": {
  "kernelspec": {
   "display_name": "Python 3 (ipykernel)",
   "language": "python",
   "name": "python3"
  },
  "language_info": {
   "codemirror_mode": {
    "name": "ipython",
    "version": 3
   },
   "file_extension": ".py",
   "mimetype": "text/x-python",
   "name": "python",
   "nbconvert_exporter": "python",
   "pygments_lexer": "ipython3",
   "version": "3.12.7"
  }
 },
 "nbformat": 4,
 "nbformat_minor": 5
}
